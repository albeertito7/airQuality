{
 "cells": [
  {
   "cell_type": "markdown",
   "metadata": {},
   "source": [
    "# Data Processing"
   ]
  },
  {
   "cell_type": "code",
   "execution_count": null,
   "metadata": {},
   "outputs": [],
   "source": [
    "import pandas as pd\n",
    "import os\n",
    "import json\n",
    "from IPython.display import display\n",
    "import matplotlib.pyplot as plt\n",
    "import pyspark\n",
    "from pyspark.sql import SparkSession\n",
    "import datetime\n",
    "\n",
    "clean_path=\"../data/clean/\"\n",
    "processing_path=\"../data/processing/\""
   ]
  },
  {
   "cell_type": "code",
   "execution_count": null,
   "metadata": {},
   "outputs": [],
   "source": [
    "# Initial Data\n",
    "_parameters = pd.read_json(clean_path+\"parameters.json\")\n",
    "_countries = pd.read_json(clean_path+\"countries.json\")\n",
    "_locations = pd.read_json(clean_path+\"locations.json\")\n",
    "   \n",
    "display(_parameters)\n",
    "display(_countries[_countries['name']=='Spain'])\n",
    "display(_locations)\n",
    "\n",
    "for (dirpath, dirnames, filenames) in os.walk(clean_path):\n",
    "    for filename in filenames:\n",
    "        if 'measurements' in filename:\n",
    "            display(pd.read_json(clean_path+filename))"
   ]
  },
  {
   "cell_type": "code",
   "execution_count": null,
   "metadata": {},
   "outputs": [],
   "source": [
    "# Create Spark Context\n",
    "sc = pyspark.SparkContext('local[*]')\n",
    "spark = SparkSession.builder.getOrCreate()"
   ]
  },
  {
   "cell_type": "code",
   "execution_count": null,
   "metadata": {},
   "outputs": [],
   "source": [
    "measuraments= {}\n",
    "for (dirpath, dirnames, filenames) in os.walk(clean_path):\n",
    "    for filename in filenames:\n",
    "        if 'measurements' in filename:\n",
    "            measuraments[filename.replace('.json','')] = spark.read.json(clean_path+filename).rdd\n",
    "\n",
    "measuraments[[*measuraments][0]].first()"
   ]
  },
  {
   "cell_type": "code",
   "execution_count": null,
   "metadata": {
    "scrolled": true
   },
   "outputs": [],
   "source": [
    "# Structure Data\n",
    "\n",
    "from dateutil import parser\n",
    "from pyspark.sql.functions import *\n",
    "\n",
    "for key in measuraments:\n",
    "    measuraments[key] = measuraments[key].map(lambda i: (parser.parse(i['date']['utc']),i['value'],i['parameter'],i['unit'],i['city'],i['location']))\n",
    "    print(measuraments[key].first())\n",
    "    \n",
    "    measuraments[key] = measuraments[key].toDF(schema=['date','value','parameter','unit','city','location'])\n",
    "    #print(measuraments[key].dtypes)\n",
    "    print(measuraments[key].count())\n",
    "    \n",
    "    measuraments[key] = measuraments[key].select(measuraments[key].date.cast('timestamp'),\n",
    "                                                 measuraments[key].value,\n",
    "                                                 measuraments[key].parameter,\n",
    "                                                 measuraments[key].unit,\n",
    "                                                 measuraments[key].city,\n",
    "                                                 measuraments[key].location)\n",
    "    \n",
    "    measuraments_d[key] = measuraments[key].select('*', date_format('date', 'yyyy-MM-dd').alias('time_window')).groupby(['time_window', 'parameter']).agg({'value': 'avg'}).orderBy('time_window')\n",
    "    measuraments_m[key] = measuraments[key].select('*', date_format('date', 'yyyy-MM').alias('time_window')).groupby(['time_window', 'parameter']).agg({'value': 'avg'}).orderBy('time_window')\n",
    "  \n",
    "\n",
    "\n",
    "\n",
    "\n",
    "    #print(measuraments[key].dtypes)\n",
    "    \n",
    "# agg per day\n",
    "#measuraments[[*measuraments][0]] = measuraments[[*measuraments][0]].select('*', date_format('date', 'yyyy-MM-dd').alias('time_window')).groupby('time_window').agg({'value': 'avg'}).orderBy('time_window')\n",
    "#measuraments[[*measuraments][0]].show()\n",
    "\n",
    "\"\"\"\n",
    "from dateutil import parser\n",
    "measuraments[key]['date'].map(lambda x: parser.parse(x))\n",
    "measuraments[key]['date'] = pd.to_datetime(measuraments[key]['date']).dt.tz_localize(None)\n",
    "\n",
    "measuraments[key] = spark.createDataFrame(measuraments[key])\n",
    "print(type(measuraments[key]))\n",
    "\n",
    "\n",
    "#from dateutil import parser\n",
    "#measuraments[key].withColumn(\"date\", \"0\")\n",
    "#print(measuraments[key].first())\n",
    "\"\"\"\n",
    "\n",
    "# TODO: UTC TIME TO DATETIME\n",
    "# TODO: https://eradiating.wordpress.com/2016/02/27/aggregating-time-series-with-spark-dataframe/"
   ]
  },
  {
   "cell_type": "code",
   "execution_count": null,
   "metadata": {},
   "outputs": [],
   "source": [
    "print(measuraments[key].dtypes)\n",
    "measuraments[key].count()"
   ]
  },
  {
   "cell_type": "code",
   "execution_count": null,
   "metadata": {},
   "outputs": [],
   "source": [
    "from functools import reduce  # For Python 3.x\n",
    "from pyspark.sql import DataFrame\n",
    "\n",
    "def unionAll(*dfs):\n",
    "    return reduce(DataFrame.unionAll, dfs) \n",
    "\n",
    "result = unionAll(*list(measuraments.values())).show()"
   ]
  },
  {
   "cell_type": "code",
   "execution_count": null,
   "metadata": {},
   "outputs": [],
   "source": []
  },
  {
   "cell_type": "code",
   "execution_count": null,
   "metadata": {},
   "outputs": [],
   "source": []
  }
 ],
 "metadata": {
  "kernelspec": {
   "display_name": "Python 3",
   "language": "python",
   "name": "python3"
  },
  "language_info": {
   "codemirror_mode": {
    "name": "ipython",
    "version": 3
   },
   "file_extension": ".py",
   "mimetype": "text/x-python",
   "name": "python",
   "nbconvert_exporter": "python",
   "pygments_lexer": "ipython3",
   "version": "3.9.5"
  }
 },
 "nbformat": 4,
 "nbformat_minor": 4
}
