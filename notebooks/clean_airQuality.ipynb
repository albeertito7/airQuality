{
 "cells": [
  {
   "cell_type": "markdown",
   "metadata": {},
   "source": [
    "# Clean Data\n",
    "## Introduction\n",
    "To measure the quality of the air we can use Sulfur Monoxide (SO), Nitrogen Dioxide (NO2), Carbon Dioxide (CO2), Ozone (O3) or Total Suspended Particules. The data obtained by OpenAQ is provided by the different sensors around the world. Nevertheless, we will focus on our country during the last year. We consider using 2020 because it is a year that we have a pandemic situation and we would know what happens during the lockdown etc."
   ]
  },
  {
   "cell_type": "markdown",
   "metadata": {},
   "source": [
    "## Get started\n",
    "\n",
    ">Note: this notebook uses python 3 as kernel\n",
    "\n",
    "This notebook assumes tha data is already downloaded and stored at ``../data/raw``\n",
    "\n",
    "if not, execute:\n",
    "\n",
    "``python ../src/data/get_data.py``"
   ]
  },
  {
   "cell_type": "markdown",
   "metadata": {},
   "source": [
    "## Read Files\n",
    "\n",
    "We will be using, at first instance, the following python modules:\n",
    "- ``os`` python built-in package to deal with directories/files\n",
    "- ``json`` python built-in package to code/encode JSON data\n",
    "- ``pandas`` to read and process the data\n",
    "- ``display`` to visualize the data\n",
    "- ``pickle`` to keep stored the read and processed data as a byte stream to save loading times"
   ]
  },
  {
   "cell_type": "code",
   "execution_count": 1,
   "metadata": {
    "scrolled": false
   },
   "outputs": [],
   "source": [
    "import pandas as pd\n",
    "import os\n",
    "import json\n",
    "from pandas_profiling import ProfileReport\n",
    "from IPython.display import display\n",
    "import pickle as pkl\n",
    "\n",
    "# global vars\n",
    "rel_path=\"../data/raw/\"\n",
    "clean_path=\"../data/clean/\"\n",
    "pkl_path=\"../data/interim/\"\n",
    "rep_path=\"../reports/\"\n",
    "\n",
    "pkl_parameters = pkl_path + \"parameters.pkl\"\n",
    "pkl_countries = pkl_path + \"countries.pkl\"\n",
    "pkl_measurements = pkl_path + \"measurements.pkl\"\n",
    "pkl_locations = pkl_path + \"locations.pkl\"\n",
    "\n",
    "os.makedirs(pkl_path, exist_ok=True)\n",
    "os.makedirs(rep_path, exist_ok=True)"
   ]
  },
  {
   "cell_type": "code",
   "execution_count": 2,
   "metadata": {},
   "outputs": [
    {
     "name": "stdout",
     "output_type": "stream",
     "text": [
      "<class 'pandas.core.frame.DataFrame'>\n",
      "Int64Index: 22 entries, 1 to 19843\n",
      "Data columns (total 6 columns):\n",
      " #   Column         Non-Null Count  Dtype  \n",
      "---  ------         --------------  -----  \n",
      " 0   description    22 non-null     object \n",
      " 1   displayName    22 non-null     object \n",
      " 2   isCore         22 non-null     bool   \n",
      " 3   maxColorValue  11 non-null     float64\n",
      " 4   name           22 non-null     object \n",
      " 5   preferredUnit  22 non-null     object \n",
      "dtypes: bool(1), float64(1), object(4)\n",
      "memory usage: 1.1+ KB\n"
     ]
    },
    {
     "data": {
      "application/vnd.jupyter.widget-view+json": {
       "model_id": "f5fe811d0031461fbb308c07af7c6ed8",
       "version_major": 2,
       "version_minor": 0
      },
      "text/plain": [
       "HBox(children=(HTML(value='Summarize dataset'), FloatProgress(value=0.0, max=20.0), HTML(value='')))"
      ]
     },
     "metadata": {},
     "output_type": "display_data"
    },
    {
     "name": "stdout",
     "output_type": "stream",
     "text": [
      "\n"
     ]
    },
    {
     "data": {
      "application/vnd.jupyter.widget-view+json": {
       "model_id": "efd4aca52751465b8adb89aa1f984992",
       "version_major": 2,
       "version_minor": 0
      },
      "text/plain": [
       "HBox(children=(HTML(value='Generate report structure'), FloatProgress(value=0.0, max=1.0), HTML(value='')))"
      ]
     },
     "metadata": {},
     "output_type": "display_data"
    },
    {
     "name": "stdout",
     "output_type": "stream",
     "text": [
      "\n"
     ]
    },
    {
     "data": {
      "application/vnd.jupyter.widget-view+json": {
       "model_id": "",
       "version_major": 2,
       "version_minor": 0
      },
      "text/plain": [
       "HBox(children=(HTML(value='Render widgets'), FloatProgress(value=0.0, max=1.0), HTML(value='')))"
      ]
     },
     "metadata": {},
     "output_type": "display_data"
    },
    {
     "data": {
      "application/vnd.jupyter.widget-view+json": {
       "model_id": "08001f0e3353485a93e10df09ceaa3de",
       "version_major": 2,
       "version_minor": 0
      },
      "text/plain": [
       "VBox(children=(Tab(children=(Tab(children=(GridBox(children=(VBox(children=(GridspecLayout(children=(HTML(valu…"
      ]
     },
     "metadata": {},
     "output_type": "display_data"
    },
    {
     "data": {
      "application/vnd.jupyter.widget-view+json": {
       "model_id": "dfd6b90fc4b7441085a4c4b37a4553ab",
       "version_major": 2,
       "version_minor": 0
      },
      "text/plain": [
       "HBox(children=(HTML(value='Render HTML'), FloatProgress(value=0.0, max=1.0), HTML(value='')))"
      ]
     },
     "metadata": {},
     "output_type": "display_data"
    },
    {
     "name": "stdout",
     "output_type": "stream",
     "text": [
      "\n"
     ]
    },
    {
     "data": {
      "application/vnd.jupyter.widget-view+json": {
       "model_id": "7a4d0e085b6543b591d3c0ceca164d09",
       "version_major": 2,
       "version_minor": 0
      },
      "text/plain": [
       "HBox(children=(HTML(value='Export report to file'), FloatProgress(value=0.0, max=1.0), HTML(value='')))"
      ]
     },
     "metadata": {},
     "output_type": "display_data"
    },
    {
     "name": "stdout",
     "output_type": "stream",
     "text": [
      "\n"
     ]
    },
    {
     "data": {
      "application/vnd.jupyter.widget-view+json": {
       "model_id": "46cc16c43ebb42698d1ce8f34c7a2947",
       "version_major": 2,
       "version_minor": 0
      },
      "text/plain": [
       "HBox(children=(HTML(value='Render JSON'), FloatProgress(value=0.0, max=1.0), HTML(value='')))"
      ]
     },
     "metadata": {},
     "output_type": "display_data"
    },
    {
     "name": "stdout",
     "output_type": "stream",
     "text": [
      "\n"
     ]
    },
    {
     "data": {
      "application/vnd.jupyter.widget-view+json": {
       "model_id": "dbad0a114bcd4707a9a9d716af1c368c",
       "version_major": 2,
       "version_minor": 0
      },
      "text/plain": [
       "HBox(children=(HTML(value='Export report to file'), FloatProgress(value=0.0, max=1.0), HTML(value='')))"
      ]
     },
     "metadata": {},
     "output_type": "display_data"
    },
    {
     "name": "stdout",
     "output_type": "stream",
     "text": [
      "\n"
     ]
    },
    {
     "data": {
      "text/html": [
       "<div>\n",
       "<style scoped>\n",
       "    .dataframe tbody tr th:only-of-type {\n",
       "        vertical-align: middle;\n",
       "    }\n",
       "\n",
       "    .dataframe tbody tr th {\n",
       "        vertical-align: top;\n",
       "    }\n",
       "\n",
       "    .dataframe thead th {\n",
       "        text-align: right;\n",
       "    }\n",
       "</style>\n",
       "<table border=\"1\" class=\"dataframe\">\n",
       "  <thead>\n",
       "    <tr style=\"text-align: right;\">\n",
       "      <th></th>\n",
       "      <th>displayName</th>\n",
       "      <th>name</th>\n",
       "      <th>preferredUnit</th>\n",
       "    </tr>\n",
       "    <tr>\n",
       "      <th>id</th>\n",
       "      <th></th>\n",
       "      <th></th>\n",
       "      <th></th>\n",
       "    </tr>\n",
       "  </thead>\n",
       "  <tbody>\n",
       "    <tr>\n",
       "      <th>1</th>\n",
       "      <td>PM10</td>\n",
       "      <td>pm10</td>\n",
       "      <td>µg/m³</td>\n",
       "    </tr>\n",
       "    <tr>\n",
       "      <th>2</th>\n",
       "      <td>PM2.5</td>\n",
       "      <td>pm25</td>\n",
       "      <td>µg/m³</td>\n",
       "    </tr>\n",
       "    <tr>\n",
       "      <th>3</th>\n",
       "      <td>O₃ mass</td>\n",
       "      <td>o3</td>\n",
       "      <td>µg/m³</td>\n",
       "    </tr>\n",
       "    <tr>\n",
       "      <th>4</th>\n",
       "      <td>CO mass</td>\n",
       "      <td>co</td>\n",
       "      <td>µg/m³</td>\n",
       "    </tr>\n",
       "    <tr>\n",
       "      <th>5</th>\n",
       "      <td>NO₂ mass</td>\n",
       "      <td>no2</td>\n",
       "      <td>µg/m³</td>\n",
       "    </tr>\n",
       "    <tr>\n",
       "      <th>6</th>\n",
       "      <td>SO₂ mass</td>\n",
       "      <td>so2</td>\n",
       "      <td>µg/m³</td>\n",
       "    </tr>\n",
       "    <tr>\n",
       "      <th>7</th>\n",
       "      <td>NO₂</td>\n",
       "      <td>no2</td>\n",
       "      <td>ppm</td>\n",
       "    </tr>\n",
       "    <tr>\n",
       "      <th>8</th>\n",
       "      <td>CO</td>\n",
       "      <td>co</td>\n",
       "      <td>ppm</td>\n",
       "    </tr>\n",
       "    <tr>\n",
       "      <th>9</th>\n",
       "      <td>SO₂</td>\n",
       "      <td>so2</td>\n",
       "      <td>ppm</td>\n",
       "    </tr>\n",
       "    <tr>\n",
       "      <th>10</th>\n",
       "      <td>O₃</td>\n",
       "      <td>o3</td>\n",
       "      <td>ppm</td>\n",
       "    </tr>\n",
       "    <tr>\n",
       "      <th>11</th>\n",
       "      <td>BC</td>\n",
       "      <td>bc</td>\n",
       "      <td>µg/m³</td>\n",
       "    </tr>\n",
       "    <tr>\n",
       "      <th>19</th>\n",
       "      <td>PM1</td>\n",
       "      <td>pm1</td>\n",
       "      <td>µg/m³</td>\n",
       "    </tr>\n",
       "    <tr>\n",
       "      <th>21</th>\n",
       "      <td>CO₂</td>\n",
       "      <td>co2</td>\n",
       "      <td>ppm</td>\n",
       "    </tr>\n",
       "    <tr>\n",
       "      <th>27</th>\n",
       "      <td>NOx mass</td>\n",
       "      <td>nox</td>\n",
       "      <td>µg/m³</td>\n",
       "    </tr>\n",
       "    <tr>\n",
       "      <th>28</th>\n",
       "      <td>CH₄</td>\n",
       "      <td>ch4</td>\n",
       "      <td>ppm</td>\n",
       "    </tr>\n",
       "    <tr>\n",
       "      <th>33</th>\n",
       "      <td>UFP count</td>\n",
       "      <td>ufp</td>\n",
       "      <td>particles/cm³</td>\n",
       "    </tr>\n",
       "    <tr>\n",
       "      <th>35</th>\n",
       "      <td>NO</td>\n",
       "      <td>no</td>\n",
       "      <td>ppm</td>\n",
       "    </tr>\n",
       "    <tr>\n",
       "      <th>126</th>\n",
       "      <td>PM1 count</td>\n",
       "      <td>um010</td>\n",
       "      <td>particles/cm³</td>\n",
       "    </tr>\n",
       "    <tr>\n",
       "      <th>130</th>\n",
       "      <td>PM2.5 count</td>\n",
       "      <td>um025</td>\n",
       "      <td>particles/cm³</td>\n",
       "    </tr>\n",
       "    <tr>\n",
       "      <th>135</th>\n",
       "      <td>PM10 count</td>\n",
       "      <td>um100</td>\n",
       "      <td>particles/cm³</td>\n",
       "    </tr>\n",
       "    <tr>\n",
       "      <th>19840</th>\n",
       "      <td>NOx</td>\n",
       "      <td>nox</td>\n",
       "      <td>ppm</td>\n",
       "    </tr>\n",
       "    <tr>\n",
       "      <th>19843</th>\n",
       "      <td>NO mass</td>\n",
       "      <td>no</td>\n",
       "      <td>µg/m³</td>\n",
       "    </tr>\n",
       "  </tbody>\n",
       "</table>\n",
       "</div>"
      ],
      "text/plain": [
       "       displayName   name  preferredUnit\n",
       "id                                      \n",
       "1             PM10   pm10          µg/m³\n",
       "2            PM2.5   pm25          µg/m³\n",
       "3          O₃ mass     o3          µg/m³\n",
       "4          CO mass     co          µg/m³\n",
       "5         NO₂ mass    no2          µg/m³\n",
       "6         SO₂ mass    so2          µg/m³\n",
       "7              NO₂    no2            ppm\n",
       "8               CO     co            ppm\n",
       "9              SO₂    so2            ppm\n",
       "10              O₃     o3            ppm\n",
       "11              BC     bc          µg/m³\n",
       "19             PM1    pm1          µg/m³\n",
       "21             CO₂    co2            ppm\n",
       "27        NOx mass    nox          µg/m³\n",
       "28             CH₄    ch4            ppm\n",
       "33       UFP count    ufp  particles/cm³\n",
       "35              NO     no            ppm\n",
       "126      PM1 count  um010  particles/cm³\n",
       "130    PM2.5 count  um025  particles/cm³\n",
       "135     PM10 count  um100  particles/cm³\n",
       "19840          NOx    nox            ppm\n",
       "19843      NO mass     no          µg/m³"
      ]
     },
     "metadata": {},
     "output_type": "display_data"
    }
   ],
   "source": [
    "def read_parameters():\n",
    "    _json = json.load(open(rel_path + 'parameters.json'))\n",
    "    data = pd.DataFrame(_json[\"results\"]).set_index('id')\n",
    "    data.to_pickle(pkl_parameters, compression='infer', protocol=-1)\n",
    "    return data\n",
    "\n",
    "parameters = pkl.load(open(pkl_parameters, 'rb')) if os.path.exists(pkl_parameters) else read_parameters()\n",
    "parameters.info()\n",
    "\n",
    "# Profile report\n",
    "profile = ProfileReport(parameters, title=\"Profiling Parameters\")\n",
    "profile.to_widgets()\n",
    "\n",
    "profile.to_file(rep_path + 'parameters.html')\n",
    "profile.to_file(rep_path + 'parameters.json')\n",
    "\n",
    "# Display\n",
    "parameters = parameters[['displayName','name','preferredUnit']]\n",
    "display(parameters)\n",
    "\n",
    "os.makedirs(clean_path, exist_ok=True)\n",
    "parameters.to_json(clean_path + \"parameters.json\", orient='records')"
   ]
  },
  {
   "cell_type": "markdown",
   "metadata": {},
   "source": [
    "MaxColorValue has missing values (null values), but this data is not required for our analysis.\n",
    "We can observe the different parameters and the units applied to them.\n",
    "This analysis is only for getting information about the API and what kind of data may we treat."
   ]
  },
  {
   "cell_type": "code",
   "execution_count": 3,
   "metadata": {},
   "outputs": [
    {
     "name": "stdout",
     "output_type": "stream",
     "text": [
      "<class 'pandas.core.frame.DataFrame'>\n",
      "RangeIndex: 130 entries, 0 to 129\n",
      "Data columns (total 9 columns):\n",
      " #   Column        Non-Null Count  Dtype \n",
      "---  ------        --------------  ----- \n",
      " 0   cities        130 non-null    int64 \n",
      " 1   code          130 non-null    object\n",
      " 2   count         130 non-null    int64 \n",
      " 3   firstUpdated  130 non-null    object\n",
      " 4   lastUpdated   130 non-null    object\n",
      " 5   locations     130 non-null    int64 \n",
      " 6   name          130 non-null    object\n",
      " 7   parameters    130 non-null    object\n",
      " 8   sources       130 non-null    int64 \n",
      "dtypes: int64(4), object(5)\n",
      "memory usage: 9.3+ KB\n"
     ]
    },
    {
     "name": "stderr",
     "output_type": "stream",
     "text": [
      "/home/pc/anaconda3/envs/BasicDataScience/lib/python3.8/site-packages/pandas/core/frame.py:4296: SettingWithCopyWarning: \n",
      "A value is trying to be set on a copy of a slice from a DataFrame\n",
      "\n",
      "See the caveats in the documentation: https://pandas.pydata.org/pandas-docs/stable/user_guide/indexing.html#returning-a-view-versus-a-copy\n",
      "  return super().rename(\n"
     ]
    },
    {
     "data": {
      "application/vnd.jupyter.widget-view+json": {
       "model_id": "97f0cc51e5ea454dae214cb2c0eb8c40",
       "version_major": 2,
       "version_minor": 0
      },
      "text/plain": [
       "HBox(children=(HTML(value='Summarize dataset'), FloatProgress(value=0.0, max=21.0), HTML(value='')))"
      ]
     },
     "metadata": {},
     "output_type": "display_data"
    },
    {
     "name": "stdout",
     "output_type": "stream",
     "text": [
      "\n"
     ]
    },
    {
     "data": {
      "application/vnd.jupyter.widget-view+json": {
       "model_id": "33c9bace1f0642ad9a2a85822804f644",
       "version_major": 2,
       "version_minor": 0
      },
      "text/plain": [
       "HBox(children=(HTML(value='Generate report structure'), FloatProgress(value=0.0, max=1.0), HTML(value='')))"
      ]
     },
     "metadata": {},
     "output_type": "display_data"
    },
    {
     "name": "stdout",
     "output_type": "stream",
     "text": [
      "\n"
     ]
    },
    {
     "data": {
      "application/vnd.jupyter.widget-view+json": {
       "model_id": "",
       "version_major": 2,
       "version_minor": 0
      },
      "text/plain": [
       "HBox(children=(HTML(value='Render widgets'), FloatProgress(value=0.0, max=1.0), HTML(value='')))"
      ]
     },
     "metadata": {},
     "output_type": "display_data"
    },
    {
     "name": "stderr",
     "output_type": "stream",
     "text": [
      "IOPub message rate exceeded.\n",
      "The notebook server will temporarily stop sending output\n",
      "to the client in order to avoid crashing it.\n",
      "To change this limit, set the config variable\n",
      "`--NotebookApp.iopub_msg_rate_limit`.\n",
      "\n",
      "Current values:\n",
      "NotebookApp.iopub_msg_rate_limit=1000.0 (msgs/sec)\n",
      "NotebookApp.rate_limit_window=3.0 (secs)\n",
      "\n"
     ]
    },
    {
     "data": {
      "application/vnd.jupyter.widget-view+json": {
       "model_id": "b99d6858577a458cb29b21469f6f01f6",
       "version_major": 2,
       "version_minor": 0
      },
      "text/plain": [
       "VBox(children=(Tab(children=(Tab(children=(GridBox(children=(VBox(children=(GridspecLayout(children=(HTML(valu…"
      ]
     },
     "metadata": {},
     "output_type": "display_data"
    },
    {
     "data": {
      "application/vnd.jupyter.widget-view+json": {
       "model_id": "c09a1da937444e4e8cd4005781f87a79",
       "version_major": 2,
       "version_minor": 0
      },
      "text/plain": [
       "HBox(children=(HTML(value='Render HTML'), FloatProgress(value=0.0, max=1.0), HTML(value='')))"
      ]
     },
     "metadata": {},
     "output_type": "display_data"
    },
    {
     "name": "stdout",
     "output_type": "stream",
     "text": [
      "\n"
     ]
    },
    {
     "data": {
      "application/vnd.jupyter.widget-view+json": {
       "model_id": "155fd55ec9894510a550fcc4684e9956",
       "version_major": 2,
       "version_minor": 0
      },
      "text/plain": [
       "HBox(children=(HTML(value='Export report to file'), FloatProgress(value=0.0, max=1.0), HTML(value='')))"
      ]
     },
     "metadata": {},
     "output_type": "display_data"
    },
    {
     "name": "stdout",
     "output_type": "stream",
     "text": [
      "\n"
     ]
    },
    {
     "data": {
      "application/vnd.jupyter.widget-view+json": {
       "model_id": "5bb73a4c3bc44653bee1d46347628ce4",
       "version_major": 2,
       "version_minor": 0
      },
      "text/plain": [
       "HBox(children=(HTML(value='Render JSON'), FloatProgress(value=0.0, max=1.0), HTML(value='')))"
      ]
     },
     "metadata": {},
     "output_type": "display_data"
    },
    {
     "name": "stdout",
     "output_type": "stream",
     "text": [
      "\n"
     ]
    },
    {
     "data": {
      "application/vnd.jupyter.widget-view+json": {
       "model_id": "3c86738cbcf344b2aed044cc93e41c18",
       "version_major": 2,
       "version_minor": 0
      },
      "text/plain": [
       "HBox(children=(HTML(value='Export report to file'), FloatProgress(value=0.0, max=1.0), HTML(value='')))"
      ]
     },
     "metadata": {},
     "output_type": "display_data"
    },
    {
     "name": "stdout",
     "output_type": "stream",
     "text": [
      "\n"
     ]
    },
    {
     "data": {
      "text/html": [
       "<div>\n",
       "<style scoped>\n",
       "    .dataframe tbody tr th:only-of-type {\n",
       "        vertical-align: middle;\n",
       "    }\n",
       "\n",
       "    .dataframe tbody tr th {\n",
       "        vertical-align: top;\n",
       "    }\n",
       "\n",
       "    .dataframe thead th {\n",
       "        text-align: right;\n",
       "    }\n",
       "</style>\n",
       "<table border=\"1\" class=\"dataframe\">\n",
       "  <thead>\n",
       "    <tr style=\"text-align: right;\">\n",
       "      <th></th>\n",
       "      <th>cities</th>\n",
       "      <th>code</th>\n",
       "      <th>name</th>\n",
       "      <th>parameters</th>\n",
       "    </tr>\n",
       "  </thead>\n",
       "  <tbody>\n",
       "    <tr>\n",
       "      <th>0</th>\n",
       "      <td>2</td>\n",
       "      <td>AD</td>\n",
       "      <td>Andorra</td>\n",
       "      <td>[co, no2, o3, pm10, so2]</td>\n",
       "    </tr>\n",
       "    <tr>\n",
       "      <th>1</th>\n",
       "      <td>3</td>\n",
       "      <td>AE</td>\n",
       "      <td>United Arab Emirates</td>\n",
       "      <td>[o3, pm1, pm10, pm25, um010, um025, um100]</td>\n",
       "    </tr>\n",
       "    <tr>\n",
       "      <th>2</th>\n",
       "      <td>2</td>\n",
       "      <td>AF</td>\n",
       "      <td>Afghanistan</td>\n",
       "      <td>[pm25]</td>\n",
       "    </tr>\n",
       "    <tr>\n",
       "      <th>3</th>\n",
       "      <td>0</td>\n",
       "      <td>AM</td>\n",
       "      <td>Armenia</td>\n",
       "      <td>[pm1, pm10, pm25, um010, um025, um100]</td>\n",
       "    </tr>\n",
       "    <tr>\n",
       "      <th>4</th>\n",
       "      <td>0</td>\n",
       "      <td>AO</td>\n",
       "      <td>Angola</td>\n",
       "      <td>[pm1, pm10, pm25, um010, um025, um100]</td>\n",
       "    </tr>\n",
       "    <tr>\n",
       "      <th>...</th>\n",
       "      <td>...</td>\n",
       "      <td>...</td>\n",
       "      <td>...</td>\n",
       "      <td>...</td>\n",
       "    </tr>\n",
       "    <tr>\n",
       "      <th>125</th>\n",
       "      <td>1</td>\n",
       "      <td>UZ</td>\n",
       "      <td>Uzbekistan</td>\n",
       "      <td>[o3, pm25]</td>\n",
       "    </tr>\n",
       "    <tr>\n",
       "      <th>126</th>\n",
       "      <td>1</td>\n",
       "      <td>VM</td>\n",
       "      <td>VM</td>\n",
       "      <td>[pm25]</td>\n",
       "    </tr>\n",
       "    <tr>\n",
       "      <th>127</th>\n",
       "      <td>2</td>\n",
       "      <td>VN</td>\n",
       "      <td>Vietnam</td>\n",
       "      <td>[pm1, pm10, pm25, um010, um025, um100]</td>\n",
       "    </tr>\n",
       "    <tr>\n",
       "      <th>128</th>\n",
       "      <td>8</td>\n",
       "      <td>XK</td>\n",
       "      <td>Kosovo</td>\n",
       "      <td>[co, no2, o3, pm1, pm10, pm25, so2, um010, um0...</td>\n",
       "    </tr>\n",
       "    <tr>\n",
       "      <th>129</th>\n",
       "      <td>1</td>\n",
       "      <td>ZA</td>\n",
       "      <td>South Africa</td>\n",
       "      <td>[pm1, pm10, pm25, so2, um010, um025, um100]</td>\n",
       "    </tr>\n",
       "  </tbody>\n",
       "</table>\n",
       "<p>130 rows × 4 columns</p>\n",
       "</div>"
      ],
      "text/plain": [
       "     cities code                  name  \\\n",
       "0         2   AD               Andorra   \n",
       "1         3   AE  United Arab Emirates   \n",
       "2         2   AF           Afghanistan   \n",
       "3         0   AM               Armenia   \n",
       "4         0   AO                Angola   \n",
       "..      ...  ...                   ...   \n",
       "125       1   UZ            Uzbekistan   \n",
       "126       1   VM                    VM   \n",
       "127       2   VN               Vietnam   \n",
       "128       8   XK                Kosovo   \n",
       "129       1   ZA          South Africa   \n",
       "\n",
       "                                            parameters  \n",
       "0                             [co, no2, o3, pm10, so2]  \n",
       "1           [o3, pm1, pm10, pm25, um010, um025, um100]  \n",
       "2                                               [pm25]  \n",
       "3               [pm1, pm10, pm25, um010, um025, um100]  \n",
       "4               [pm1, pm10, pm25, um010, um025, um100]  \n",
       "..                                                 ...  \n",
       "125                                         [o3, pm25]  \n",
       "126                                             [pm25]  \n",
       "127             [pm1, pm10, pm25, um010, um025, um100]  \n",
       "128  [co, no2, o3, pm1, pm10, pm25, so2, um010, um0...  \n",
       "129        [pm1, pm10, pm25, so2, um010, um025, um100]  \n",
       "\n",
       "[130 rows x 4 columns]"
      ]
     },
     "metadata": {},
     "output_type": "display_data"
    }
   ],
   "source": [
    "def read_countries():\n",
    "    _json = json.load(open(rel_path + 'countries.json'))\n",
    "    data = pd.DataFrame(_json['results'])\n",
    "    data.to_pickle(pkl_countries, compression='infer', protocol=-1)\n",
    "    return data\n",
    "\n",
    "countries = pkl.load(open(pkl_countries, 'rb')) if os.path.exists(pkl_countries) else read_countries()\n",
    "countries.info()\n",
    "\n",
    "# Profile report\n",
    "profile = ProfileReport(countries.loc[:, countries.columns != 'count'], title=\"Profiling Countries\") # cannot insert count, already exists\n",
    "profile.to_widgets()\n",
    "\n",
    "profile.to_file(rep_path + 'countries.html')\n",
    "profile.to_file(rep_path + 'countries.json')\n",
    "\n",
    "# Display\n",
    "countries = countries[['cities','code','name','parameters']]\n",
    "display(countries)\n",
    "\n",
    "countries.to_json(clean_path + \"countries.json\", orient='records')"
   ]
  },
  {
   "cell_type": "code",
   "execution_count": 4,
   "metadata": {},
   "outputs": [
    {
     "name": "stdout",
     "output_type": "stream",
     "text": [
      "<class 'pandas.core.frame.DataFrame'>\n",
      "RangeIndex: 7 entries, 0 to 6\n",
      "Data columns (total 14 columns):\n",
      " #   Column        Non-Null Count  Dtype \n",
      "---  ------        --------------  ----- \n",
      " 0   city          7 non-null      object\n",
      " 1   coordinates   7 non-null      object\n",
      " 2   country       7 non-null      object\n",
      " 3   entity        7 non-null      object\n",
      " 4   firstUpdated  7 non-null      object\n",
      " 5   id            7 non-null      int64 \n",
      " 6   isAnalysis    7 non-null      bool  \n",
      " 7   isMobile      7 non-null      bool  \n",
      " 8   lastUpdated   7 non-null      object\n",
      " 9   measurements  7 non-null      int64 \n",
      " 10  name          7 non-null      object\n",
      " 11  parameters    7 non-null      object\n",
      " 12  sensorType    7 non-null      object\n",
      " 13  sources       7 non-null      object\n",
      "dtypes: bool(2), int64(2), object(10)\n",
      "memory usage: 814.0+ bytes\n"
     ]
    },
    {
     "data": {
      "application/vnd.jupyter.widget-view+json": {
       "model_id": "54dedef236d5492ab774c92b49bc42c0",
       "version_major": 2,
       "version_minor": 0
      },
      "text/plain": [
       "HBox(children=(HTML(value='Summarize dataset'), FloatProgress(value=0.0, max=27.0), HTML(value='')))"
      ]
     },
     "metadata": {},
     "output_type": "display_data"
    },
    {
     "name": "stdout",
     "output_type": "stream",
     "text": [
      "\n"
     ]
    },
    {
     "data": {
      "application/vnd.jupyter.widget-view+json": {
       "model_id": "a0f1b70f0c9646108173776f929c781b",
       "version_major": 2,
       "version_minor": 0
      },
      "text/plain": [
       "HBox(children=(HTML(value='Generate report structure'), FloatProgress(value=0.0, max=1.0), HTML(value='')))"
      ]
     },
     "metadata": {},
     "output_type": "display_data"
    },
    {
     "name": "stdout",
     "output_type": "stream",
     "text": [
      "\n"
     ]
    },
    {
     "data": {
      "application/vnd.jupyter.widget-view+json": {
       "model_id": "",
       "version_major": 2,
       "version_minor": 0
      },
      "text/plain": [
       "HBox(children=(HTML(value='Render widgets'), FloatProgress(value=0.0, max=1.0), HTML(value='')))"
      ]
     },
     "metadata": {},
     "output_type": "display_data"
    },
    {
     "data": {
      "application/vnd.jupyter.widget-view+json": {
       "model_id": "a8d42ce9800349beabce7f0f6ac40f50",
       "version_major": 2,
       "version_minor": 0
      },
      "text/plain": [
       "VBox(children=(Tab(children=(Tab(children=(GridBox(children=(VBox(children=(GridspecLayout(children=(HTML(valu…"
      ]
     },
     "metadata": {},
     "output_type": "display_data"
    },
    {
     "data": {
      "application/vnd.jupyter.widget-view+json": {
       "model_id": "6b47fbac9ab74d028a95be4266c48302",
       "version_major": 2,
       "version_minor": 0
      },
      "text/plain": [
       "HBox(children=(HTML(value='Render HTML'), FloatProgress(value=0.0, max=1.0), HTML(value='')))"
      ]
     },
     "metadata": {},
     "output_type": "display_data"
    },
    {
     "name": "stdout",
     "output_type": "stream",
     "text": [
      "\n"
     ]
    },
    {
     "data": {
      "application/vnd.jupyter.widget-view+json": {
       "model_id": "b483e57cdf704462849dd195289ec994",
       "version_major": 2,
       "version_minor": 0
      },
      "text/plain": [
       "HBox(children=(HTML(value='Export report to file'), FloatProgress(value=0.0, max=1.0), HTML(value='')))"
      ]
     },
     "metadata": {},
     "output_type": "display_data"
    },
    {
     "name": "stdout",
     "output_type": "stream",
     "text": [
      "\n"
     ]
    },
    {
     "data": {
      "application/vnd.jupyter.widget-view+json": {
       "model_id": "bf39ae5baa2a428a8c82f207f484f9ed",
       "version_major": 2,
       "version_minor": 0
      },
      "text/plain": [
       "HBox(children=(HTML(value='Render JSON'), FloatProgress(value=0.0, max=1.0), HTML(value='')))"
      ]
     },
     "metadata": {},
     "output_type": "display_data"
    },
    {
     "name": "stdout",
     "output_type": "stream",
     "text": [
      "\n"
     ]
    },
    {
     "data": {
      "application/vnd.jupyter.widget-view+json": {
       "model_id": "d59a2663b7e544a4b5ee84d5e934ca39",
       "version_major": 2,
       "version_minor": 0
      },
      "text/plain": [
       "HBox(children=(HTML(value='Export report to file'), FloatProgress(value=0.0, max=1.0), HTML(value='')))"
      ]
     },
     "metadata": {},
     "output_type": "display_data"
    },
    {
     "name": "stdout",
     "output_type": "stream",
     "text": [
      "\n"
     ]
    },
    {
     "data": {
      "text/html": [
       "<div>\n",
       "<style scoped>\n",
       "    .dataframe tbody tr th:only-of-type {\n",
       "        vertical-align: middle;\n",
       "    }\n",
       "\n",
       "    .dataframe tbody tr th {\n",
       "        vertical-align: top;\n",
       "    }\n",
       "\n",
       "    .dataframe thead th {\n",
       "        text-align: right;\n",
       "    }\n",
       "</style>\n",
       "<table border=\"1\" class=\"dataframe\">\n",
       "  <thead>\n",
       "    <tr style=\"text-align: right;\">\n",
       "      <th></th>\n",
       "      <th>city</th>\n",
       "      <th>country</th>\n",
       "      <th>measurements</th>\n",
       "      <th>name</th>\n",
       "      <th>parameters</th>\n",
       "    </tr>\n",
       "  </thead>\n",
       "  <tbody>\n",
       "    <tr>\n",
       "      <th>0</th>\n",
       "      <td>Lleida</td>\n",
       "      <td>ES</td>\n",
       "      <td>87477</td>\n",
       "      <td>ES1348A</td>\n",
       "      <td>[{'average': 6.12817871775504, 'count': 43689,...</td>\n",
       "    </tr>\n",
       "    <tr>\n",
       "      <th>1</th>\n",
       "      <td>Lleida</td>\n",
       "      <td>ES</td>\n",
       "      <td>158200</td>\n",
       "      <td>ES1225A</td>\n",
       "      <td>[{'average': 21.836622590619, 'count': 30402, ...</td>\n",
       "    </tr>\n",
       "    <tr>\n",
       "      <th>2</th>\n",
       "      <td>Lleida</td>\n",
       "      <td>ES</td>\n",
       "      <td>44096</td>\n",
       "      <td>ES1588A</td>\n",
       "      <td>[{'average': 31.143459724238, 'count': 44096, ...</td>\n",
       "    </tr>\n",
       "    <tr>\n",
       "      <th>3</th>\n",
       "      <td>Lleida</td>\n",
       "      <td>ES</td>\n",
       "      <td>166789</td>\n",
       "      <td>ES1982A</td>\n",
       "      <td>[{'average': -0.809283896764813, 'count': 4126...</td>\n",
       "    </tr>\n",
       "    <tr>\n",
       "      <th>4</th>\n",
       "      <td>Lleida</td>\n",
       "      <td>ES</td>\n",
       "      <td>87526</td>\n",
       "      <td>ES2034A</td>\n",
       "      <td>[{'average': 33.5927029547574, 'count': 43963,...</td>\n",
       "    </tr>\n",
       "    <tr>\n",
       "      <th>5</th>\n",
       "      <td>Lleida</td>\n",
       "      <td>ES</td>\n",
       "      <td>141226</td>\n",
       "      <td>ES0014R</td>\n",
       "      <td>[{'average': 52.9704737236434, 'count': 46715,...</td>\n",
       "    </tr>\n",
       "    <tr>\n",
       "      <th>6</th>\n",
       "      <td>Lleida</td>\n",
       "      <td>ES</td>\n",
       "      <td>43718</td>\n",
       "      <td>ES1248A</td>\n",
       "      <td>[{'average': 31.86282538085, 'count': 43718, '...</td>\n",
       "    </tr>\n",
       "  </tbody>\n",
       "</table>\n",
       "</div>"
      ],
      "text/plain": [
       "     city country  measurements     name  \\\n",
       "0  Lleida      ES         87477  ES1348A   \n",
       "1  Lleida      ES        158200  ES1225A   \n",
       "2  Lleida      ES         44096  ES1588A   \n",
       "3  Lleida      ES        166789  ES1982A   \n",
       "4  Lleida      ES         87526  ES2034A   \n",
       "5  Lleida      ES        141226  ES0014R   \n",
       "6  Lleida      ES         43718  ES1248A   \n",
       "\n",
       "                                          parameters  \n",
       "0  [{'average': 6.12817871775504, 'count': 43689,...  \n",
       "1  [{'average': 21.836622590619, 'count': 30402, ...  \n",
       "2  [{'average': 31.143459724238, 'count': 44096, ...  \n",
       "3  [{'average': -0.809283896764813, 'count': 4126...  \n",
       "4  [{'average': 33.5927029547574, 'count': 43963,...  \n",
       "5  [{'average': 52.9704737236434, 'count': 46715,...  \n",
       "6  [{'average': 31.86282538085, 'count': 43718, '...  "
      ]
     },
     "metadata": {},
     "output_type": "display_data"
    },
    {
     "name": "stdout",
     "output_type": "stream",
     "text": [
      "['ES1348A' 'ES1225A' 'ES1588A' 'ES1982A' 'ES2034A' 'ES0014R' 'ES1248A']\n"
     ]
    }
   ],
   "source": [
    "def read_locations():\n",
    "    _json = json.load(open(rel_path + 'locations_ES_Lleida.json'))\n",
    "    data = pd.DataFrame(_json['results'])\n",
    "    data.to_pickle(pkl_locations, compression='infer', protocol=-1)\n",
    "    return data\n",
    "\n",
    "locations = pkl.load(open(pkl_locations, 'rb')) if os.path.exists(pkl_locations) else read_locations()\n",
    "locations.info()\n",
    "\n",
    "# Profile report\n",
    "profile = ProfileReport(locations, title=\"Profiling Measurements\")\n",
    "profile.to_widgets()\n",
    "\n",
    "profile.to_file(rep_path + 'locations.html')\n",
    "profile.to_file(rep_path + 'locations.json')\n",
    "\n",
    "locations = locations[['city','country','measurements','name','parameters']]\n",
    "locations.to_json(clean_path + \"locations.json\", orient='records')\n",
    "display(locations)\n",
    "print(locations.name.values)"
   ]
  },
  {
   "cell_type": "code",
   "execution_count": null,
   "metadata": {},
   "outputs": [
    {
     "name": "stdout",
     "output_type": "stream",
     "text": [
      "<class 'pandas.core.frame.DataFrame'>\n",
      "RangeIndex: 19625 entries, 0 to 19624\n",
      "Data columns (total 13 columns):\n",
      " #   Column       Non-Null Count  Dtype \n",
      "---  ------       --------------  ----- \n",
      " 0   city         19625 non-null  object\n",
      " 1   coordinates  19625 non-null  object\n",
      " 2   country      19625 non-null  object\n",
      " 3   date         19625 non-null  object\n",
      " 4   entity       19625 non-null  object\n",
      " 5   isAnalysis   19625 non-null  bool  \n",
      " 6   isMobile     19625 non-null  bool  \n",
      " 7   location     19625 non-null  object\n",
      " 8   locationId   19625 non-null  int64 \n",
      " 9   parameter    19625 non-null  object\n",
      " 10  sensorType   19625 non-null  object\n",
      " 11  unit         19625 non-null  object\n",
      " 12  value        19625 non-null  int64 \n",
      "dtypes: bool(2), int64(2), object(9)\n",
      "memory usage: 1.7+ MB\n"
     ]
    },
    {
     "data": {
      "application/vnd.jupyter.widget-view+json": {
       "model_id": "1663edbf3d124aef9b28d954c929e711",
       "version_major": 2,
       "version_minor": 0
      },
      "text/plain": [
       "HBox(children=(HTML(value='Summarize dataset'), FloatProgress(value=0.0, max=20.0), HTML(value='')))"
      ]
     },
     "metadata": {},
     "output_type": "display_data"
    },
    {
     "name": "stdout",
     "output_type": "stream",
     "text": [
      "\n"
     ]
    },
    {
     "data": {
      "application/vnd.jupyter.widget-view+json": {
       "model_id": "c855f90f9b79467bb0fe8b8399e6d680",
       "version_major": 2,
       "version_minor": 0
      },
      "text/plain": [
       "HBox(children=(HTML(value='Generate report structure'), FloatProgress(value=0.0, max=1.0), HTML(value='')))"
      ]
     },
     "metadata": {},
     "output_type": "display_data"
    },
    {
     "name": "stdout",
     "output_type": "stream",
     "text": [
      "\n"
     ]
    },
    {
     "data": {
      "application/vnd.jupyter.widget-view+json": {
       "model_id": "",
       "version_major": 2,
       "version_minor": 0
      },
      "text/plain": [
       "HBox(children=(HTML(value='Render widgets'), FloatProgress(value=0.0, max=1.0), HTML(value='')))"
      ]
     },
     "metadata": {},
     "output_type": "display_data"
    },
    {
     "data": {
      "application/vnd.jupyter.widget-view+json": {
       "model_id": "e3d3fc1770bd4747a059958699445a87",
       "version_major": 2,
       "version_minor": 0
      },
      "text/plain": [
       "VBox(children=(Tab(children=(Tab(children=(GridBox(children=(VBox(children=(GridspecLayout(children=(HTML(valu…"
      ]
     },
     "metadata": {},
     "output_type": "display_data"
    },
    {
     "data": {
      "text/html": [
       "<div>\n",
       "<style scoped>\n",
       "    .dataframe tbody tr th:only-of-type {\n",
       "        vertical-align: middle;\n",
       "    }\n",
       "\n",
       "    .dataframe tbody tr th {\n",
       "        vertical-align: top;\n",
       "    }\n",
       "\n",
       "    .dataframe thead th {\n",
       "        text-align: right;\n",
       "    }\n",
       "</style>\n",
       "<table border=\"1\" class=\"dataframe\">\n",
       "  <thead>\n",
       "    <tr style=\"text-align: right;\">\n",
       "      <th></th>\n",
       "      <th>location</th>\n",
       "      <th>city</th>\n",
       "      <th>date</th>\n",
       "      <th>parameter</th>\n",
       "      <th>value</th>\n",
       "      <th>unit</th>\n",
       "    </tr>\n",
       "  </thead>\n",
       "  <tbody>\n",
       "    <tr>\n",
       "      <th>0</th>\n",
       "      <td>ES2034A</td>\n",
       "      <td>Lleida</td>\n",
       "      <td>{'local': '2020-12-30T18:00:00+01:00', 'utc': ...</td>\n",
       "      <td>o3</td>\n",
       "      <td>63</td>\n",
       "      <td>µg/m³</td>\n",
       "    </tr>\n",
       "    <tr>\n",
       "      <th>1</th>\n",
       "      <td>ES2034A</td>\n",
       "      <td>Lleida</td>\n",
       "      <td>{'local': '2020-12-30T18:00:00+01:00', 'utc': ...</td>\n",
       "      <td>no2</td>\n",
       "      <td>4</td>\n",
       "      <td>µg/m³</td>\n",
       "    </tr>\n",
       "    <tr>\n",
       "      <th>2</th>\n",
       "      <td>ES2034A</td>\n",
       "      <td>Lleida</td>\n",
       "      <td>{'local': '2020-12-30T17:00:00+01:00', 'utc': ...</td>\n",
       "      <td>no2</td>\n",
       "      <td>2</td>\n",
       "      <td>µg/m³</td>\n",
       "    </tr>\n",
       "    <tr>\n",
       "      <th>3</th>\n",
       "      <td>ES2034A</td>\n",
       "      <td>Lleida</td>\n",
       "      <td>{'local': '2020-12-30T17:00:00+01:00', 'utc': ...</td>\n",
       "      <td>o3</td>\n",
       "      <td>65</td>\n",
       "      <td>µg/m³</td>\n",
       "    </tr>\n",
       "    <tr>\n",
       "      <th>4</th>\n",
       "      <td>ES2034A</td>\n",
       "      <td>Lleida</td>\n",
       "      <td>{'local': '2020-12-30T16:00:00+01:00', 'utc': ...</td>\n",
       "      <td>no2</td>\n",
       "      <td>1</td>\n",
       "      <td>µg/m³</td>\n",
       "    </tr>\n",
       "    <tr>\n",
       "      <th>...</th>\n",
       "      <td>...</td>\n",
       "      <td>...</td>\n",
       "      <td>...</td>\n",
       "      <td>...</td>\n",
       "      <td>...</td>\n",
       "      <td>...</td>\n",
       "    </tr>\n",
       "    <tr>\n",
       "      <th>19620</th>\n",
       "      <td>ES2034A</td>\n",
       "      <td>Lleida</td>\n",
       "      <td>{'local': '2019-01-01T13:00:00+01:00', 'utc': ...</td>\n",
       "      <td>o3</td>\n",
       "      <td>10</td>\n",
       "      <td>µg/m³</td>\n",
       "    </tr>\n",
       "    <tr>\n",
       "      <th>19621</th>\n",
       "      <td>ES2034A</td>\n",
       "      <td>Lleida</td>\n",
       "      <td>{'local': '2019-01-01T12:00:00+01:00', 'utc': ...</td>\n",
       "      <td>no2</td>\n",
       "      <td>14</td>\n",
       "      <td>µg/m³</td>\n",
       "    </tr>\n",
       "    <tr>\n",
       "      <th>19622</th>\n",
       "      <td>ES2034A</td>\n",
       "      <td>Lleida</td>\n",
       "      <td>{'local': '2019-01-01T12:00:00+01:00', 'utc': ...</td>\n",
       "      <td>o3</td>\n",
       "      <td>11</td>\n",
       "      <td>µg/m³</td>\n",
       "    </tr>\n",
       "    <tr>\n",
       "      <th>19623</th>\n",
       "      <td>ES2034A</td>\n",
       "      <td>Lleida</td>\n",
       "      <td>{'local': '2019-01-01T11:00:00+01:00', 'utc': ...</td>\n",
       "      <td>no2</td>\n",
       "      <td>9</td>\n",
       "      <td>µg/m³</td>\n",
       "    </tr>\n",
       "    <tr>\n",
       "      <th>19624</th>\n",
       "      <td>ES2034A</td>\n",
       "      <td>Lleida</td>\n",
       "      <td>{'local': '2019-01-01T11:00:00+01:00', 'utc': ...</td>\n",
       "      <td>o3</td>\n",
       "      <td>9</td>\n",
       "      <td>µg/m³</td>\n",
       "    </tr>\n",
       "  </tbody>\n",
       "</table>\n",
       "<p>19573 rows × 6 columns</p>\n",
       "</div>"
      ],
      "text/plain": [
       "      location    city                                               date  \\\n",
       "0      ES2034A  Lleida  {'local': '2020-12-30T18:00:00+01:00', 'utc': ...   \n",
       "1      ES2034A  Lleida  {'local': '2020-12-30T18:00:00+01:00', 'utc': ...   \n",
       "2      ES2034A  Lleida  {'local': '2020-12-30T17:00:00+01:00', 'utc': ...   \n",
       "3      ES2034A  Lleida  {'local': '2020-12-30T17:00:00+01:00', 'utc': ...   \n",
       "4      ES2034A  Lleida  {'local': '2020-12-30T16:00:00+01:00', 'utc': ...   \n",
       "...        ...     ...                                                ...   \n",
       "19620  ES2034A  Lleida  {'local': '2019-01-01T13:00:00+01:00', 'utc': ...   \n",
       "19621  ES2034A  Lleida  {'local': '2019-01-01T12:00:00+01:00', 'utc': ...   \n",
       "19622  ES2034A  Lleida  {'local': '2019-01-01T12:00:00+01:00', 'utc': ...   \n",
       "19623  ES2034A  Lleida  {'local': '2019-01-01T11:00:00+01:00', 'utc': ...   \n",
       "19624  ES2034A  Lleida  {'local': '2019-01-01T11:00:00+01:00', 'utc': ...   \n",
       "\n",
       "      parameter  value   unit  \n",
       "0            o3     63  µg/m³  \n",
       "1           no2      4  µg/m³  \n",
       "2           no2      2  µg/m³  \n",
       "3            o3     65  µg/m³  \n",
       "4           no2      1  µg/m³  \n",
       "...         ...    ...    ...  \n",
       "19620        o3     10  µg/m³  \n",
       "19621       no2     14  µg/m³  \n",
       "19622        o3     11  µg/m³  \n",
       "19623       no2      9  µg/m³  \n",
       "19624        o3      9  µg/m³  \n",
       "\n",
       "[19573 rows x 6 columns]"
      ]
     },
     "metadata": {},
     "output_type": "display_data"
    },
    {
     "name": "stdout",
     "output_type": "stream",
     "text": [
      "<class 'pandas.core.frame.DataFrame'>\n",
      "RangeIndex: 19628 entries, 0 to 19627\n",
      "Data columns (total 13 columns):\n",
      " #   Column       Non-Null Count  Dtype \n",
      "---  ------       --------------  ----- \n",
      " 0   city         19628 non-null  object\n",
      " 1   coordinates  19628 non-null  object\n",
      " 2   country      19628 non-null  object\n",
      " 3   date         19628 non-null  object\n",
      " 4   entity       19628 non-null  object\n",
      " 5   isAnalysis   19628 non-null  bool  \n",
      " 6   isMobile     19628 non-null  bool  \n",
      " 7   location     19628 non-null  object\n",
      " 8   locationId   19628 non-null  int64 \n",
      " 9   parameter    19628 non-null  object\n",
      " 10  sensorType   19628 non-null  object\n",
      " 11  unit         19628 non-null  object\n",
      " 12  value        19628 non-null  int64 \n",
      "dtypes: bool(2), int64(2), object(9)\n",
      "memory usage: 1.7+ MB\n"
     ]
    },
    {
     "data": {
      "application/vnd.jupyter.widget-view+json": {
       "model_id": "316cc9865ebd488587d79727c31c4175",
       "version_major": 2,
       "version_minor": 0
      },
      "text/plain": [
       "HBox(children=(HTML(value='Summarize dataset'), FloatProgress(value=0.0, max=20.0), HTML(value='')))"
      ]
     },
     "metadata": {},
     "output_type": "display_data"
    },
    {
     "name": "stdout",
     "output_type": "stream",
     "text": [
      "\n"
     ]
    },
    {
     "data": {
      "application/vnd.jupyter.widget-view+json": {
       "model_id": "2cea5a3400f3404bac68dd411e4c28bd",
       "version_major": 2,
       "version_minor": 0
      },
      "text/plain": [
       "HBox(children=(HTML(value='Generate report structure'), FloatProgress(value=0.0, max=1.0), HTML(value='')))"
      ]
     },
     "metadata": {},
     "output_type": "display_data"
    },
    {
     "name": "stdout",
     "output_type": "stream",
     "text": [
      "\n"
     ]
    },
    {
     "data": {
      "application/vnd.jupyter.widget-view+json": {
       "model_id": "",
       "version_major": 2,
       "version_minor": 0
      },
      "text/plain": [
       "HBox(children=(HTML(value='Render widgets'), FloatProgress(value=0.0, max=1.0), HTML(value='')))"
      ]
     },
     "metadata": {},
     "output_type": "display_data"
    },
    {
     "data": {
      "application/vnd.jupyter.widget-view+json": {
       "model_id": "c46d3a4d84dc4721a6ecb97178b8d214",
       "version_major": 2,
       "version_minor": 0
      },
      "text/plain": [
       "VBox(children=(Tab(children=(Tab(children=(GridBox(children=(VBox(children=(GridspecLayout(children=(HTML(valu…"
      ]
     },
     "metadata": {},
     "output_type": "display_data"
    },
    {
     "data": {
      "text/html": [
       "<div>\n",
       "<style scoped>\n",
       "    .dataframe tbody tr th:only-of-type {\n",
       "        vertical-align: middle;\n",
       "    }\n",
       "\n",
       "    .dataframe tbody tr th {\n",
       "        vertical-align: top;\n",
       "    }\n",
       "\n",
       "    .dataframe thead th {\n",
       "        text-align: right;\n",
       "    }\n",
       "</style>\n",
       "<table border=\"1\" class=\"dataframe\">\n",
       "  <thead>\n",
       "    <tr style=\"text-align: right;\">\n",
       "      <th></th>\n",
       "      <th>location</th>\n",
       "      <th>city</th>\n",
       "      <th>date</th>\n",
       "      <th>parameter</th>\n",
       "      <th>value</th>\n",
       "      <th>unit</th>\n",
       "    </tr>\n",
       "  </thead>\n",
       "  <tbody>\n",
       "    <tr>\n",
       "      <th>0</th>\n",
       "      <td>ES1348A</td>\n",
       "      <td>Lleida</td>\n",
       "      <td>{'local': '2020-12-30T16:00:00-01:00', 'utc': ...</td>\n",
       "      <td>o3</td>\n",
       "      <td>65</td>\n",
       "      <td>µg/m³</td>\n",
       "    </tr>\n",
       "    <tr>\n",
       "      <th>1</th>\n",
       "      <td>ES1348A</td>\n",
       "      <td>Lleida</td>\n",
       "      <td>{'local': '2020-12-30T15:00:00-01:00', 'utc': ...</td>\n",
       "      <td>no2</td>\n",
       "      <td>3</td>\n",
       "      <td>µg/m³</td>\n",
       "    </tr>\n",
       "    <tr>\n",
       "      <th>2</th>\n",
       "      <td>ES1348A</td>\n",
       "      <td>Lleida</td>\n",
       "      <td>{'local': '2020-12-30T15:00:00-01:00', 'utc': ...</td>\n",
       "      <td>o3</td>\n",
       "      <td>70</td>\n",
       "      <td>µg/m³</td>\n",
       "    </tr>\n",
       "    <tr>\n",
       "      <th>3</th>\n",
       "      <td>ES1348A</td>\n",
       "      <td>Lleida</td>\n",
       "      <td>{'local': '2020-12-30T14:00:00-01:00', 'utc': ...</td>\n",
       "      <td>no2</td>\n",
       "      <td>4</td>\n",
       "      <td>µg/m³</td>\n",
       "    </tr>\n",
       "    <tr>\n",
       "      <th>4</th>\n",
       "      <td>ES1348A</td>\n",
       "      <td>Lleida</td>\n",
       "      <td>{'local': '2020-12-30T14:00:00-01:00', 'utc': ...</td>\n",
       "      <td>o3</td>\n",
       "      <td>70</td>\n",
       "      <td>µg/m³</td>\n",
       "    </tr>\n",
       "    <tr>\n",
       "      <th>...</th>\n",
       "      <td>...</td>\n",
       "      <td>...</td>\n",
       "      <td>...</td>\n",
       "      <td>...</td>\n",
       "      <td>...</td>\n",
       "      <td>...</td>\n",
       "    </tr>\n",
       "    <tr>\n",
       "      <th>19623</th>\n",
       "      <td>ES1348A</td>\n",
       "      <td>Lleida</td>\n",
       "      <td>{'local': '2019-01-01T11:00:00-01:00', 'utc': ...</td>\n",
       "      <td>no2</td>\n",
       "      <td>14</td>\n",
       "      <td>µg/m³</td>\n",
       "    </tr>\n",
       "    <tr>\n",
       "      <th>19624</th>\n",
       "      <td>ES1348A</td>\n",
       "      <td>Lleida</td>\n",
       "      <td>{'local': '2019-01-01T10:00:00-01:00', 'utc': ...</td>\n",
       "      <td>no2</td>\n",
       "      <td>18</td>\n",
       "      <td>µg/m³</td>\n",
       "    </tr>\n",
       "    <tr>\n",
       "      <th>19625</th>\n",
       "      <td>ES1348A</td>\n",
       "      <td>Lleida</td>\n",
       "      <td>{'local': '2019-01-01T10:00:00-01:00', 'utc': ...</td>\n",
       "      <td>o3</td>\n",
       "      <td>38</td>\n",
       "      <td>µg/m³</td>\n",
       "    </tr>\n",
       "    <tr>\n",
       "      <th>19626</th>\n",
       "      <td>ES1348A</td>\n",
       "      <td>Lleida</td>\n",
       "      <td>{'local': '2019-01-01T09:00:00-01:00', 'utc': ...</td>\n",
       "      <td>no2</td>\n",
       "      <td>24</td>\n",
       "      <td>µg/m³</td>\n",
       "    </tr>\n",
       "    <tr>\n",
       "      <th>19627</th>\n",
       "      <td>ES1348A</td>\n",
       "      <td>Lleida</td>\n",
       "      <td>{'local': '2019-01-01T09:00:00-01:00', 'utc': ...</td>\n",
       "      <td>o3</td>\n",
       "      <td>25</td>\n",
       "      <td>µg/m³</td>\n",
       "    </tr>\n",
       "  </tbody>\n",
       "</table>\n",
       "<p>19576 rows × 6 columns</p>\n",
       "</div>"
      ],
      "text/plain": [
       "      location    city                                               date  \\\n",
       "0      ES1348A  Lleida  {'local': '2020-12-30T16:00:00-01:00', 'utc': ...   \n",
       "1      ES1348A  Lleida  {'local': '2020-12-30T15:00:00-01:00', 'utc': ...   \n",
       "2      ES1348A  Lleida  {'local': '2020-12-30T15:00:00-01:00', 'utc': ...   \n",
       "3      ES1348A  Lleida  {'local': '2020-12-30T14:00:00-01:00', 'utc': ...   \n",
       "4      ES1348A  Lleida  {'local': '2020-12-30T14:00:00-01:00', 'utc': ...   \n",
       "...        ...     ...                                                ...   \n",
       "19623  ES1348A  Lleida  {'local': '2019-01-01T11:00:00-01:00', 'utc': ...   \n",
       "19624  ES1348A  Lleida  {'local': '2019-01-01T10:00:00-01:00', 'utc': ...   \n",
       "19625  ES1348A  Lleida  {'local': '2019-01-01T10:00:00-01:00', 'utc': ...   \n",
       "19626  ES1348A  Lleida  {'local': '2019-01-01T09:00:00-01:00', 'utc': ...   \n",
       "19627  ES1348A  Lleida  {'local': '2019-01-01T09:00:00-01:00', 'utc': ...   \n",
       "\n",
       "      parameter  value   unit  \n",
       "0            o3     65  µg/m³  \n",
       "1           no2      3  µg/m³  \n",
       "2            o3     70  µg/m³  \n",
       "3           no2      4  µg/m³  \n",
       "4            o3     70  µg/m³  \n",
       "...         ...    ...    ...  \n",
       "19623       no2     14  µg/m³  \n",
       "19624       no2     18  µg/m³  \n",
       "19625        o3     38  µg/m³  \n",
       "19626       no2     24  µg/m³  \n",
       "19627        o3     25  µg/m³  \n",
       "\n",
       "[19576 rows x 6 columns]"
      ]
     },
     "metadata": {},
     "output_type": "display_data"
    },
    {
     "name": "stdout",
     "output_type": "stream",
     "text": [
      "<class 'pandas.core.frame.DataFrame'>\n",
      "RangeIndex: 9853 entries, 0 to 9852\n",
      "Data columns (total 13 columns):\n",
      " #   Column       Non-Null Count  Dtype \n",
      "---  ------       --------------  ----- \n",
      " 0   city         9853 non-null   object\n",
      " 1   coordinates  9853 non-null   object\n",
      " 2   country      9853 non-null   object\n",
      " 3   date         9853 non-null   object\n",
      " 4   entity       9853 non-null   object\n",
      " 5   isAnalysis   9853 non-null   bool  \n",
      " 6   isMobile     9853 non-null   bool  \n",
      " 7   location     9853 non-null   object\n",
      " 8   locationId   9853 non-null   int64 \n",
      " 9   parameter    9853 non-null   object\n",
      " 10  sensorType   9853 non-null   object\n",
      " 11  unit         9853 non-null   object\n",
      " 12  value        9853 non-null   int64 \n",
      "dtypes: bool(2), int64(2), object(9)\n",
      "memory usage: 866.1+ KB\n"
     ]
    },
    {
     "data": {
      "application/vnd.jupyter.widget-view+json": {
       "model_id": "405369eef7d3402e9567be84c01138de",
       "version_major": 2,
       "version_minor": 0
      },
      "text/plain": [
       "HBox(children=(HTML(value='Summarize dataset'), FloatProgress(value=0.0, max=20.0), HTML(value='')))"
      ]
     },
     "metadata": {},
     "output_type": "display_data"
    },
    {
     "name": "stdout",
     "output_type": "stream",
     "text": [
      "\n"
     ]
    },
    {
     "data": {
      "application/vnd.jupyter.widget-view+json": {
       "model_id": "3ef0c92478464c4e9c2a94837c5e0797",
       "version_major": 2,
       "version_minor": 0
      },
      "text/plain": [
       "HBox(children=(HTML(value='Generate report structure'), FloatProgress(value=0.0, max=1.0), HTML(value='')))"
      ]
     },
     "metadata": {},
     "output_type": "display_data"
    },
    {
     "name": "stdout",
     "output_type": "stream",
     "text": [
      "\n"
     ]
    },
    {
     "data": {
      "application/vnd.jupyter.widget-view+json": {
       "model_id": "",
       "version_major": 2,
       "version_minor": 0
      },
      "text/plain": [
       "HBox(children=(HTML(value='Render widgets'), FloatProgress(value=0.0, max=1.0), HTML(value='')))"
      ]
     },
     "metadata": {},
     "output_type": "display_data"
    },
    {
     "data": {
      "application/vnd.jupyter.widget-view+json": {
       "model_id": "2c70d6178f164371bb9fb202b412e8b1",
       "version_major": 2,
       "version_minor": 0
      },
      "text/plain": [
       "VBox(children=(Tab(children=(Tab(children=(GridBox(children=(VBox(children=(GridspecLayout(children=(HTML(valu…"
      ]
     },
     "metadata": {},
     "output_type": "display_data"
    },
    {
     "data": {
      "text/html": [
       "<div>\n",
       "<style scoped>\n",
       "    .dataframe tbody tr th:only-of-type {\n",
       "        vertical-align: middle;\n",
       "    }\n",
       "\n",
       "    .dataframe tbody tr th {\n",
       "        vertical-align: top;\n",
       "    }\n",
       "\n",
       "    .dataframe thead th {\n",
       "        text-align: right;\n",
       "    }\n",
       "</style>\n",
       "<table border=\"1\" class=\"dataframe\">\n",
       "  <thead>\n",
       "    <tr style=\"text-align: right;\">\n",
       "      <th></th>\n",
       "      <th>location</th>\n",
       "      <th>city</th>\n",
       "      <th>date</th>\n",
       "      <th>parameter</th>\n",
       "      <th>value</th>\n",
       "      <th>unit</th>\n",
       "    </tr>\n",
       "  </thead>\n",
       "  <tbody>\n",
       "    <tr>\n",
       "      <th>0</th>\n",
       "      <td>ES1588A</td>\n",
       "      <td>Lleida</td>\n",
       "      <td>{'local': '2020-12-30T18:00:00+01:00', 'utc': ...</td>\n",
       "      <td>o3</td>\n",
       "      <td>43</td>\n",
       "      <td>µg/m³</td>\n",
       "    </tr>\n",
       "    <tr>\n",
       "      <th>1</th>\n",
       "      <td>ES1588A</td>\n",
       "      <td>Lleida</td>\n",
       "      <td>{'local': '2020-12-30T17:00:00+01:00', 'utc': ...</td>\n",
       "      <td>o3</td>\n",
       "      <td>52</td>\n",
       "      <td>µg/m³</td>\n",
       "    </tr>\n",
       "    <tr>\n",
       "      <th>2</th>\n",
       "      <td>ES1588A</td>\n",
       "      <td>Lleida</td>\n",
       "      <td>{'local': '2020-12-30T16:00:00+01:00', 'utc': ...</td>\n",
       "      <td>o3</td>\n",
       "      <td>52</td>\n",
       "      <td>µg/m³</td>\n",
       "    </tr>\n",
       "    <tr>\n",
       "      <th>3</th>\n",
       "      <td>ES1588A</td>\n",
       "      <td>Lleida</td>\n",
       "      <td>{'local': '2020-12-30T15:00:00+01:00', 'utc': ...</td>\n",
       "      <td>o3</td>\n",
       "      <td>55</td>\n",
       "      <td>µg/m³</td>\n",
       "    </tr>\n",
       "    <tr>\n",
       "      <th>4</th>\n",
       "      <td>ES1588A</td>\n",
       "      <td>Lleida</td>\n",
       "      <td>{'local': '2020-12-30T14:00:00+01:00', 'utc': ...</td>\n",
       "      <td>o3</td>\n",
       "      <td>51</td>\n",
       "      <td>µg/m³</td>\n",
       "    </tr>\n",
       "    <tr>\n",
       "      <th>...</th>\n",
       "      <td>...</td>\n",
       "      <td>...</td>\n",
       "      <td>...</td>\n",
       "      <td>...</td>\n",
       "      <td>...</td>\n",
       "      <td>...</td>\n",
       "    </tr>\n",
       "    <tr>\n",
       "      <th>9848</th>\n",
       "      <td>ES1588A</td>\n",
       "      <td>Lleida</td>\n",
       "      <td>{'local': '2019-01-01T15:00:00+01:00', 'utc': ...</td>\n",
       "      <td>o3</td>\n",
       "      <td>18</td>\n",
       "      <td>µg/m³</td>\n",
       "    </tr>\n",
       "    <tr>\n",
       "      <th>9849</th>\n",
       "      <td>ES1588A</td>\n",
       "      <td>Lleida</td>\n",
       "      <td>{'local': '2019-01-01T14:00:00+01:00', 'utc': ...</td>\n",
       "      <td>o3</td>\n",
       "      <td>19</td>\n",
       "      <td>µg/m³</td>\n",
       "    </tr>\n",
       "    <tr>\n",
       "      <th>9850</th>\n",
       "      <td>ES1588A</td>\n",
       "      <td>Lleida</td>\n",
       "      <td>{'local': '2019-01-01T13:00:00+01:00', 'utc': ...</td>\n",
       "      <td>o3</td>\n",
       "      <td>20</td>\n",
       "      <td>µg/m³</td>\n",
       "    </tr>\n",
       "    <tr>\n",
       "      <th>9851</th>\n",
       "      <td>ES1588A</td>\n",
       "      <td>Lleida</td>\n",
       "      <td>{'local': '2019-01-01T12:00:00+01:00', 'utc': ...</td>\n",
       "      <td>o3</td>\n",
       "      <td>12</td>\n",
       "      <td>µg/m³</td>\n",
       "    </tr>\n",
       "    <tr>\n",
       "      <th>9852</th>\n",
       "      <td>ES1588A</td>\n",
       "      <td>Lleida</td>\n",
       "      <td>{'local': '2019-01-01T11:00:00+01:00', 'utc': ...</td>\n",
       "      <td>o3</td>\n",
       "      <td>9</td>\n",
       "      <td>µg/m³</td>\n",
       "    </tr>\n",
       "  </tbody>\n",
       "</table>\n",
       "<p>9827 rows × 6 columns</p>\n",
       "</div>"
      ],
      "text/plain": [
       "     location    city                                               date  \\\n",
       "0     ES1588A  Lleida  {'local': '2020-12-30T18:00:00+01:00', 'utc': ...   \n",
       "1     ES1588A  Lleida  {'local': '2020-12-30T17:00:00+01:00', 'utc': ...   \n",
       "2     ES1588A  Lleida  {'local': '2020-12-30T16:00:00+01:00', 'utc': ...   \n",
       "3     ES1588A  Lleida  {'local': '2020-12-30T15:00:00+01:00', 'utc': ...   \n",
       "4     ES1588A  Lleida  {'local': '2020-12-30T14:00:00+01:00', 'utc': ...   \n",
       "...       ...     ...                                                ...   \n",
       "9848  ES1588A  Lleida  {'local': '2019-01-01T15:00:00+01:00', 'utc': ...   \n",
       "9849  ES1588A  Lleida  {'local': '2019-01-01T14:00:00+01:00', 'utc': ...   \n",
       "9850  ES1588A  Lleida  {'local': '2019-01-01T13:00:00+01:00', 'utc': ...   \n",
       "9851  ES1588A  Lleida  {'local': '2019-01-01T12:00:00+01:00', 'utc': ...   \n",
       "9852  ES1588A  Lleida  {'local': '2019-01-01T11:00:00+01:00', 'utc': ...   \n",
       "\n",
       "     parameter  value   unit  \n",
       "0           o3     43  µg/m³  \n",
       "1           o3     52  µg/m³  \n",
       "2           o3     52  µg/m³  \n",
       "3           o3     55  µg/m³  \n",
       "4           o3     51  µg/m³  \n",
       "...        ...    ...    ...  \n",
       "9848        o3     18  µg/m³  \n",
       "9849        o3     19  µg/m³  \n",
       "9850        o3     20  µg/m³  \n",
       "9851        o3     12  µg/m³  \n",
       "9852        o3      9  µg/m³  \n",
       "\n",
       "[9827 rows x 6 columns]"
      ]
     },
     "metadata": {},
     "output_type": "display_data"
    },
    {
     "name": "stdout",
     "output_type": "stream",
     "text": [
      "<class 'pandas.core.frame.DataFrame'>\n",
      "RangeIndex: 31163 entries, 0 to 31162\n",
      "Data columns (total 13 columns):\n",
      " #   Column       Non-Null Count  Dtype  \n",
      "---  ------       --------------  -----  \n",
      " 0   city         31163 non-null  object \n",
      " 1   coordinates  31163 non-null  object \n",
      " 2   country      31163 non-null  object \n",
      " 3   date         31163 non-null  object \n",
      " 4   entity       31163 non-null  object \n",
      " 5   isAnalysis   31163 non-null  bool   \n",
      " 6   isMobile     31163 non-null  bool   \n",
      " 7   location     31163 non-null  object \n",
      " 8   locationId   31163 non-null  int64  \n",
      " 9   parameter    31163 non-null  object \n",
      " 10  sensorType   31163 non-null  object \n",
      " 11  unit         31163 non-null  object \n",
      " 12  value        31163 non-null  float64\n",
      "dtypes: bool(2), float64(1), int64(1), object(9)\n",
      "memory usage: 2.7+ MB\n"
     ]
    },
    {
     "data": {
      "application/vnd.jupyter.widget-view+json": {
       "model_id": "3a6bfacf796947a4874107e54eda9488",
       "version_major": 2,
       "version_minor": 0
      },
      "text/plain": [
       "HBox(children=(HTML(value='Summarize dataset'), FloatProgress(value=0.0, max=20.0), HTML(value='')))"
      ]
     },
     "metadata": {},
     "output_type": "display_data"
    },
    {
     "name": "stdout",
     "output_type": "stream",
     "text": [
      "\n"
     ]
    },
    {
     "data": {
      "application/vnd.jupyter.widget-view+json": {
       "model_id": "667ed14b8e7241bd8a0c67f0bda291b1",
       "version_major": 2,
       "version_minor": 0
      },
      "text/plain": [
       "HBox(children=(HTML(value='Generate report structure'), FloatProgress(value=0.0, max=1.0), HTML(value='')))"
      ]
     },
     "metadata": {},
     "output_type": "display_data"
    },
    {
     "name": "stdout",
     "output_type": "stream",
     "text": [
      "\n"
     ]
    },
    {
     "data": {
      "application/vnd.jupyter.widget-view+json": {
       "model_id": "99fd226f20264ae8afeb9404cacf3e36",
       "version_major": 2,
       "version_minor": 0
      },
      "text/plain": [
       "HBox(children=(HTML(value='Render widgets'), FloatProgress(value=0.0, max=1.0), HTML(value='')))"
      ]
     },
     "metadata": {},
     "output_type": "display_data"
    }
   ],
   "source": [
    "for (dirpath, dirnames, filenames) in os.walk(rel_path):\n",
    "    for filename in filenames:\n",
    "        if filename.find('measurements') == 0:\n",
    "            measurements = json.load(open(rel_path+filename))\n",
    "            measurements = pd.DataFrame(measurements[\"results\"])\n",
    "            measurements.info()\n",
    "            measurements=measurements[['location','city','date','parameter','value','unit']]\n",
    "            measurements = measurements[measurements.value >= 0]\n",
    "            \n",
    "            #Profile report\n",
    "            profile = ProfileReport(measurements, title=\"Profiling Measurements\")\n",
    "            profile.to_widgets()\n",
    "\n",
    "            # Display\n",
    "            measurements.to_json(clean_path + filename, orient='records')\n",
    "            display(measurements)"
   ]
  },
  {
   "cell_type": "code",
   "execution_count": null,
   "metadata": {},
   "outputs": [],
   "source": []
  }
 ],
 "metadata": {
  "kernelspec": {
   "display_name": "Python 3",
   "language": "python",
   "name": "python3"
  },
  "language_info": {
   "codemirror_mode": {
    "name": "ipython",
    "version": 3
   },
   "file_extension": ".py",
   "mimetype": "text/x-python",
   "name": "python",
   "nbconvert_exporter": "python",
   "pygments_lexer": "ipython3",
   "version": "3.8.5"
  }
 },
 "nbformat": 4,
 "nbformat_minor": 4
}
