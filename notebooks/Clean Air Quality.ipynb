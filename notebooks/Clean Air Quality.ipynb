{
 "cells": [
  {
   "cell_type": "markdown",
   "metadata": {},
   "source": [
    "# Clean Data\n",
    "## Introduction\n",
    "To measure the quality of the air we can use Sulfur Monoxide (SO), Nitrogen Dioxide (NO2), Carbon Dioxide (CO2), Ozone (O3) or Total Suspended Particules. The data obtained by OpenAQ is provided by the different sensors around the world. Nevertheless, we will focus on our country during the last year. We consider using 2020 because it is a year that we have a pandemic situation and we would know what happens during the lockdown etc."
   ]
  },
  {
   "source": [
    "## Get started\n",
    "\n",
    ">Note: this notebook uses python 3 as kernel\n",
    "\n",
    "This notebook assumes tha data is already downloaded and stored at ``../data/raw``\n",
    "\n",
    "if not, execute:\n",
    "\n",
    "``python ../src/data/get_data.py``"
   ],
   "cell_type": "markdown",
   "metadata": {}
  },
  {
   "source": [
    "## Read Files\n",
    "\n",
    "We will be using, at first instance, the following python modules:\n",
    "- ``os`` python built-in package to deal with directories/files\n",
    "- ``json`` python built-in package to code/encode JSON data\n",
    "- ``pandas`` to read and process the data\n",
    "- ``pickle`` to keep stored the read and processed data as a byte stream to save loading times"
   ],
   "cell_type": "markdown",
   "metadata": {}
  },
  {
   "cell_type": "code",
   "execution_count": null,
   "metadata": {},
   "outputs": [],
   "source": [
    "import pandas as pd\n",
    "import os\n",
    "import json\n",
    "from pandas_profiling import ProfileReport\n",
    "from IPython.display import display\n",
    "import pickle as pkl\n",
    "\n",
    "# global vars\n",
    "rel_path=\"../data/raw/\"\n",
    "clean_path=\"../data/clean/\"\n",
    "pkl_path=\"../data/interim/\"\n",
    "rep_path=\"../reports/\"\n",
    "\n",
    "pkl_parameters = pkl_path + \"parameters.pkl\"\n",
    "pkl_countries = pkl_path + \"countries.pkl\"\n",
    "pkl_measurements = pkl_path + \"measurements.pkl\"\n",
    "\n",
    "os.makedirs(pkl_path, exist_ok=True)\n",
    "os.makedirs(rep_path, exist_ok=True)\n",
    "\n",
    "def read_parameters():\n",
    "    _json = json.load(open(rel_path + 'parameters.json'))\n",
    "    data = pd.DataFrame(_json[\"results\"]).set_index('id')\n",
    "    data.to_pickle(pkl_parameters, compression='infer', protcol=-1)\n",
    "    return data\n",
    "\n",
    "parameters = pkl.load(open(pkl_parameters, 'rb')) if os.path.exists(pkl_parameters) else read_parameters()\n",
    "parameters.info()\n",
    "\n",
    "# Profile report\n",
    "profile = ProfileReport(parameters, title=\"Profiling Parameters\")\n",
    "profile.to_widgets()\n",
    "\n",
    "profile.to_file(rep_path + 'parameters.html')\n",
    "profile.to_file(rep_path + 'parameters.json')\n",
    "\n",
    "# Display\n",
    "parameters = parameters[['displayName','name','preferredUnit']]\n",
    "display(parameters)\n",
    "\n",
    "os.makedirs(clean_path, exist_ok=True)\n",
    "parameters.to_json(clean_path + \"parameters.json\", orient='records')"
   ]
  },
  {
   "cell_type": "code",
   "execution_count": null,
   "metadata": {},
   "outputs": [],
   "source": [
    "def read_countries():\n",
    "    _json = json.load(open(rel_path + 'countries.json'))\n",
    "    data = pd.DataFrame(_json['results'])\n",
    "    data.to_pickle(pkl_countries, compression='infer', protocol=-1)\n",
    "    return data\n",
    "\n",
    "countries = pkl.load(open(pkl_countries, 'rb')) if os.path.exists(pkl_countries) else read_countries()\n",
    "countries.info()\n",
    "\n",
    "# Profile report\n",
    "profile = ProfileReport(countries.loc[:, countries.columns != 'count'], title=\"Profiling Countries\") # cannot insert count, already exists\n",
    "profile.to_widgets()\n",
    "\n",
    "profile.to_file(rep_path + 'countries.html')\n",
    "profile.to_file(rep_path + 'countries.json')\n",
    "\n",
    "# Display\n",
    "countries = countries[['cities','code','name','parameters']]\n",
    "display(countries)\n",
    "\n",
    "spain = countries[countries['name'] == 'Spain']\n",
    "display(spain)\n",
    "\n",
    "print(spain['parameters'].values[0])\n",
    "\n",
    "countries.to_json(clean_path + \"countries.json\", orient='records')"
   ]
  },
  {
   "cell_type": "code",
   "execution_count": null,
   "metadata": {},
   "outputs": [],
   "source": [
    "def read_measurements():\n",
    "    _json = json.load(open(rel_path + 'measurements_day_0.json'))\n",
    "    data = pd.DataFrame(_json['results'])\n",
    "    data.to_pickle(pkl_measurements, compression='infer', protocol=-1)\n",
    "    return data\n",
    "\n",
    "measurements = pkl.load(open(pkl_measurements, 'rb')) if os.path.exists(pkl_measurements) else read_measurements()\n",
    "measurements.info()\n",
    "\n",
    "# Profile report\n",
    "profile = ProfileReport(measurements, title=\"Profiling Measurements\")\n",
    "profile.to_widgets()\n",
    "#measurements.loc['2020-12-31','o3']\n",
    "\n",
    "profile.to_file(rep_path + 'measurements_day_0.html')\n",
    "profile.to_file(rep_path + 'measurements_day_0.json')\n",
    "\n",
    "# Display\n",
    "measurements = measurements[['average', 'day', 'parameter', 'unit']]\n",
    "pd.to_datetime(measurements['day'], format='%Y-%m-%d')\n",
    "\n",
    "measurements.to_json(clean_path + \"measurements.json\", orient='records')\n",
    "display(measurements)"
   ]
  },
  {
   "cell_type": "code",
   "execution_count": null,
   "metadata": {},
   "outputs": [],
   "source": []
  }
 ],
 "metadata": {
  "kernelspec": {
   "name": "python390jvsc74a57bd03efeaf8f12deeee38dec9f04e0b4bdf2695ae390c5ccbfd78431e919e9e4d08d",
   "display_name": "Python 3.9.0 64-bit"
  },
  "language_info": {
   "codemirror_mode": {
    "name": "ipython",
    "version": 3
   },
   "file_extension": ".py",
   "mimetype": "text/x-python",
   "name": "python",
   "nbconvert_exporter": "python",
   "pygments_lexer": "ipython3",
   "version": "3.9.0"
  }
 },
 "nbformat": 4,
 "nbformat_minor": 4
}