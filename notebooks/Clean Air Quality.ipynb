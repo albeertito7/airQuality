{
 "cells": [
  {
   "cell_type": "markdown",
   "metadata": {},
   "source": [
    "# Clean Data\n",
    "## Introduction\n",
    "To measure the quality of the air we can use Sulfur Monoxide (SO), Nitrogen Dioxide (NO2), Carbon Dioxide (CO2), Ozone (O3) or Total Suspended Particules. The data obtained by OpenAQ is provided by the different sensors around the world. Nevertheless, we will focus on our country during the last year. We consider using 2020 because it is a year that we have a pandemic situation and we would know what happens during the lockdown etc."
   ]
  },
  {
   "source": [
    "## Get started\n",
    "\n",
    ">Note: this notebook uses python 3 as kernel\n",
    "\n",
    "This notebook assumes tha data is already downloaded and stored at ``../data/raw``\n",
    "\n",
    "if not, execute:\n",
    "\n",
    "``python ../src/data/get_data.py``"
   ],
   "cell_type": "markdown",
   "metadata": {}
  },
  {
   "source": [
    "## Read Files\n",
    "\n",
    "We will be using, at first instance, the following python modules:\n",
    "- ``os`` python built-in package to deal with directories/files\n",
    "- ``json`` python built-in package to code/encode JSON data\n",
    "- ``pandas`` to read and process the data\n",
    "- ``display`` to visualize the data\n",
    "- ``pickle`` to keep stored the read and processed data as a byte stream to save loading times"
   ],
   "cell_type": "markdown",
   "metadata": {}
  },
  {
   "cell_type": "code",
   "execution_count": 1,
   "metadata": {},
   "outputs": [
    {
     "output_type": "stream",
     "name": "stderr",
     "text": [
      "Summarize dataset:   0%|          | 0/20 [00:00<?, ?it/s]<class 'pandas.core.frame.DataFrame'>\n",
      "Int64Index: 22 entries, 1 to 19843\n",
      "Data columns (total 6 columns):\n",
      " #   Column         Non-Null Count  Dtype  \n",
      "---  ------         --------------  -----  \n",
      " 0   description    22 non-null     object \n",
      " 1   displayName    22 non-null     object \n",
      " 2   isCore         22 non-null     bool   \n",
      " 3   maxColorValue  11 non-null     float64\n",
      " 4   name           22 non-null     object \n",
      " 5   preferredUnit  22 non-null     object \n",
      "dtypes: bool(1), float64(1), object(4)\n",
      "memory usage: 1.1+ KB\n",
      "Summarize dataset: 100%|██████████| 20/20 [00:03<00:00,  6.16it/s, Completed]\n",
      "Generate report structure: 100%|██████████| 1/1 [00:02<00:00,  2.73s/it]\n"
     ]
    },
    {
     "output_type": "display_data",
     "data": {
      "text/plain": "VBox(children=(Tab(children=(Tab(children=(GridBox(children=(VBox(children=(GridspecLayout(children=(HTML(valu…",
      "application/vnd.jupyter.widget-view+json": {
       "version_major": 2,
       "version_minor": 0,
       "model_id": "d654b45b6c2d400fb06ba6d853de5d70"
      }
     },
     "metadata": {}
    },
    {
     "output_type": "stream",
     "name": "stderr",
     "text": [
      "Render HTML: 100%|██████████| 1/1 [00:00<00:00,  1.97it/s]\n",
      "Export report to file: 100%|██████████| 1/1 [00:00<00:00, 125.02it/s]\n",
      "Render JSON: 100%|██████████| 1/1 [00:00<00:00, 50.01it/s]\n",
      "Export report to file: 100%|██████████| 1/1 [00:00<00:00, 499.80it/s]\n"
     ]
    },
    {
     "output_type": "display_data",
     "data": {
      "text/plain": "       displayName   name  preferredUnit\nid                                      \n1             PM10   pm10          µg/m³\n2            PM2.5   pm25          µg/m³\n3          O₃ mass     o3          µg/m³\n4          CO mass     co          µg/m³\n5         NO₂ mass    no2          µg/m³\n6         SO₂ mass    so2          µg/m³\n7              NO₂    no2            ppm\n8               CO     co            ppm\n9              SO₂    so2            ppm\n10              O₃     o3            ppm\n11              BC     bc          µg/m³\n19             PM1    pm1          µg/m³\n21             CO₂    co2            ppm\n27        NOx mass    nox          µg/m³\n28             CH₄    ch4            ppm\n33       UFP count    ufp  particles/cm³\n35              NO     no            ppm\n126      PM1 count  um010  particles/cm³\n130    PM2.5 count  um025  particles/cm³\n135     PM10 count  um100  particles/cm³\n19840          NOx    nox            ppm\n19843      NO mass     no          µg/m³",
      "text/html": "<div>\n<style scoped>\n    .dataframe tbody tr th:only-of-type {\n        vertical-align: middle;\n    }\n\n    .dataframe tbody tr th {\n        vertical-align: top;\n    }\n\n    .dataframe thead th {\n        text-align: right;\n    }\n</style>\n<table border=\"1\" class=\"dataframe\">\n  <thead>\n    <tr style=\"text-align: right;\">\n      <th></th>\n      <th>displayName</th>\n      <th>name</th>\n      <th>preferredUnit</th>\n    </tr>\n    <tr>\n      <th>id</th>\n      <th></th>\n      <th></th>\n      <th></th>\n    </tr>\n  </thead>\n  <tbody>\n    <tr>\n      <th>1</th>\n      <td>PM10</td>\n      <td>pm10</td>\n      <td>µg/m³</td>\n    </tr>\n    <tr>\n      <th>2</th>\n      <td>PM2.5</td>\n      <td>pm25</td>\n      <td>µg/m³</td>\n    </tr>\n    <tr>\n      <th>3</th>\n      <td>O₃ mass</td>\n      <td>o3</td>\n      <td>µg/m³</td>\n    </tr>\n    <tr>\n      <th>4</th>\n      <td>CO mass</td>\n      <td>co</td>\n      <td>µg/m³</td>\n    </tr>\n    <tr>\n      <th>5</th>\n      <td>NO₂ mass</td>\n      <td>no2</td>\n      <td>µg/m³</td>\n    </tr>\n    <tr>\n      <th>6</th>\n      <td>SO₂ mass</td>\n      <td>so2</td>\n      <td>µg/m³</td>\n    </tr>\n    <tr>\n      <th>7</th>\n      <td>NO₂</td>\n      <td>no2</td>\n      <td>ppm</td>\n    </tr>\n    <tr>\n      <th>8</th>\n      <td>CO</td>\n      <td>co</td>\n      <td>ppm</td>\n    </tr>\n    <tr>\n      <th>9</th>\n      <td>SO₂</td>\n      <td>so2</td>\n      <td>ppm</td>\n    </tr>\n    <tr>\n      <th>10</th>\n      <td>O₃</td>\n      <td>o3</td>\n      <td>ppm</td>\n    </tr>\n    <tr>\n      <th>11</th>\n      <td>BC</td>\n      <td>bc</td>\n      <td>µg/m³</td>\n    </tr>\n    <tr>\n      <th>19</th>\n      <td>PM1</td>\n      <td>pm1</td>\n      <td>µg/m³</td>\n    </tr>\n    <tr>\n      <th>21</th>\n      <td>CO₂</td>\n      <td>co2</td>\n      <td>ppm</td>\n    </tr>\n    <tr>\n      <th>27</th>\n      <td>NOx mass</td>\n      <td>nox</td>\n      <td>µg/m³</td>\n    </tr>\n    <tr>\n      <th>28</th>\n      <td>CH₄</td>\n      <td>ch4</td>\n      <td>ppm</td>\n    </tr>\n    <tr>\n      <th>33</th>\n      <td>UFP count</td>\n      <td>ufp</td>\n      <td>particles/cm³</td>\n    </tr>\n    <tr>\n      <th>35</th>\n      <td>NO</td>\n      <td>no</td>\n      <td>ppm</td>\n    </tr>\n    <tr>\n      <th>126</th>\n      <td>PM1 count</td>\n      <td>um010</td>\n      <td>particles/cm³</td>\n    </tr>\n    <tr>\n      <th>130</th>\n      <td>PM2.5 count</td>\n      <td>um025</td>\n      <td>particles/cm³</td>\n    </tr>\n    <tr>\n      <th>135</th>\n      <td>PM10 count</td>\n      <td>um100</td>\n      <td>particles/cm³</td>\n    </tr>\n    <tr>\n      <th>19840</th>\n      <td>NOx</td>\n      <td>nox</td>\n      <td>ppm</td>\n    </tr>\n    <tr>\n      <th>19843</th>\n      <td>NO mass</td>\n      <td>no</td>\n      <td>µg/m³</td>\n    </tr>\n  </tbody>\n</table>\n</div>"
     },
     "metadata": {}
    }
   ],
   "source": [
    "import pandas as pd\n",
    "import os\n",
    "import json\n",
    "from pandas_profiling import ProfileReport\n",
    "from IPython.display import display\n",
    "import pickle as pkl\n",
    "\n",
    "# global vars\n",
    "rel_path=\"../data/raw/\"\n",
    "clean_path=\"../data/clean/\"\n",
    "pkl_path=\"../data/interim/\"\n",
    "rep_path=\"../reports/\"\n",
    "\n",
    "pkl_parameters = pkl_path + \"parameters.pkl\"\n",
    "pkl_countries = pkl_path + \"countries.pkl\"\n",
    "pkl_measurements = pkl_path + \"measurements.pkl\"\n",
    "\n",
    "os.makedirs(pkl_path, exist_ok=True)\n",
    "os.makedirs(rep_path, exist_ok=True)\n",
    "\n",
    "def read_parameters():\n",
    "    _json = json.load(open(rel_path + 'parameters.json'))\n",
    "    data = pd.DataFrame(_json[\"results\"]).set_index('id')\n",
    "    data.to_pickle(pkl_parameters, compression='infer', protocol=-1)\n",
    "    return data\n",
    "\n",
    "parameters = pkl.load(open(pkl_parameters, 'rb')) if os.path.exists(pkl_parameters) else read_parameters()\n",
    "parameters.info()\n",
    "\n",
    "# Profile report\n",
    "profile = ProfileReport(parameters, title=\"Profiling Parameters\")\n",
    "profile.to_widgets()\n",
    "\n",
    "profile.to_file(rep_path + 'parameters.html')\n",
    "profile.to_file(rep_path + 'parameters.json')\n",
    "\n",
    "# Display\n",
    "parameters = parameters[['displayName','name','preferredUnit']]\n",
    "display(parameters)\n",
    "\n",
    "os.makedirs(clean_path, exist_ok=True)\n",
    "parameters.to_json(clean_path + \"parameters.json\", orient='records')"
   ]
  },
  {
   "cell_type": "code",
   "execution_count": 2,
   "metadata": {},
   "outputs": [
    {
     "output_type": "stream",
     "name": "stderr",
     "text": [
      "C:\\Users\\Usuari\\AppData\\Local\\Programs\\Python\\Python39\\lib\\site-packages\\pandas\\core\\frame.py:4441: SettingWithCopyWarning: \n",
      "A value is trying to be set on a copy of a slice from a DataFrame\n",
      "\n",
      "See the caveats in the documentation: https://pandas.pydata.org/pandas-docs/stable/user_guide/indexing.html#returning-a-view-versus-a-copy\n",
      "  return super().rename(\n",
      "Summarize dataset:   5%|▍         | 1/21 [00:00<00:01, 10.53it/s, Describe variable:code]<class 'pandas.core.frame.DataFrame'>\n",
      "RangeIndex: 130 entries, 0 to 129\n",
      "Data columns (total 9 columns):\n",
      " #   Column        Non-Null Count  Dtype \n",
      "---  ------        --------------  ----- \n",
      " 0   cities        130 non-null    int64 \n",
      " 1   code          130 non-null    object\n",
      " 2   count         130 non-null    int64 \n",
      " 3   firstUpdated  130 non-null    object\n",
      " 4   lastUpdated   130 non-null    object\n",
      " 5   locations     130 non-null    int64 \n",
      " 6   name          130 non-null    object\n",
      " 7   parameters    130 non-null    object\n",
      " 8   sources       130 non-null    int64 \n",
      "dtypes: int64(4), object(5)\n",
      "memory usage: 9.3+ KB\n",
      "Summarize dataset: 100%|██████████| 21/21 [00:01<00:00, 10.50it/s, Completed]\n",
      "Generate report structure: 100%|██████████| 1/1 [00:02<00:00,  2.94s/it]\n"
     ]
    },
    {
     "output_type": "display_data",
     "data": {
      "text/plain": "VBox(children=(Tab(children=(Tab(children=(GridBox(children=(VBox(children=(GridspecLayout(children=(HTML(valu…",
      "application/vnd.jupyter.widget-view+json": {
       "version_major": 2,
       "version_minor": 0,
       "model_id": "22c48c53771840fcbd7c0b7062fd3817"
      }
     },
     "metadata": {}
    },
    {
     "output_type": "stream",
     "name": "stderr",
     "text": [
      "Render HTML: 100%|██████████| 1/1 [00:00<00:00,  2.67it/s]\n",
      "Export report to file: 100%|██████████| 1/1 [00:00<00:00, 250.00it/s]\n",
      "Render JSON: 100%|██████████| 1/1 [00:00<00:00, 66.66it/s]\n",
      "Export report to file: 100%|██████████| 1/1 [00:00<00:00, 1000.07it/s]\n"
     ]
    },
    {
     "output_type": "display_data",
     "data": {
      "text/plain": "     cities code                  name  \\\n0         2   AD               Andorra   \n1         3   AE  United Arab Emirates   \n2         2   AF           Afghanistan   \n3         0   AM               Armenia   \n4         0   AO                Angola   \n..      ...  ...                   ...   \n125       1   UZ            Uzbekistan   \n126       1   VM                    VM   \n127       2   VN               Vietnam   \n128       8   XK                Kosovo   \n129       1   ZA          South Africa   \n\n                                            parameters  \n0                             [co, no2, o3, pm10, so2]  \n1           [o3, pm1, pm10, pm25, um010, um025, um100]  \n2                                               [pm25]  \n3               [pm1, pm10, pm25, um010, um025, um100]  \n4               [pm1, pm10, pm25, um010, um025, um100]  \n..                                                 ...  \n125                                         [o3, pm25]  \n126                                             [pm25]  \n127             [pm1, pm10, pm25, um010, um025, um100]  \n128  [co, no2, o3, pm1, pm10, pm25, so2, um010, um0...  \n129        [pm1, pm10, pm25, so2, um010, um025, um100]  \n\n[130 rows x 4 columns]",
      "text/html": "<div>\n<style scoped>\n    .dataframe tbody tr th:only-of-type {\n        vertical-align: middle;\n    }\n\n    .dataframe tbody tr th {\n        vertical-align: top;\n    }\n\n    .dataframe thead th {\n        text-align: right;\n    }\n</style>\n<table border=\"1\" class=\"dataframe\">\n  <thead>\n    <tr style=\"text-align: right;\">\n      <th></th>\n      <th>cities</th>\n      <th>code</th>\n      <th>name</th>\n      <th>parameters</th>\n    </tr>\n  </thead>\n  <tbody>\n    <tr>\n      <th>0</th>\n      <td>2</td>\n      <td>AD</td>\n      <td>Andorra</td>\n      <td>[co, no2, o3, pm10, so2]</td>\n    </tr>\n    <tr>\n      <th>1</th>\n      <td>3</td>\n      <td>AE</td>\n      <td>United Arab Emirates</td>\n      <td>[o3, pm1, pm10, pm25, um010, um025, um100]</td>\n    </tr>\n    <tr>\n      <th>2</th>\n      <td>2</td>\n      <td>AF</td>\n      <td>Afghanistan</td>\n      <td>[pm25]</td>\n    </tr>\n    <tr>\n      <th>3</th>\n      <td>0</td>\n      <td>AM</td>\n      <td>Armenia</td>\n      <td>[pm1, pm10, pm25, um010, um025, um100]</td>\n    </tr>\n    <tr>\n      <th>4</th>\n      <td>0</td>\n      <td>AO</td>\n      <td>Angola</td>\n      <td>[pm1, pm10, pm25, um010, um025, um100]</td>\n    </tr>\n    <tr>\n      <th>...</th>\n      <td>...</td>\n      <td>...</td>\n      <td>...</td>\n      <td>...</td>\n    </tr>\n    <tr>\n      <th>125</th>\n      <td>1</td>\n      <td>UZ</td>\n      <td>Uzbekistan</td>\n      <td>[o3, pm25]</td>\n    </tr>\n    <tr>\n      <th>126</th>\n      <td>1</td>\n      <td>VM</td>\n      <td>VM</td>\n      <td>[pm25]</td>\n    </tr>\n    <tr>\n      <th>127</th>\n      <td>2</td>\n      <td>VN</td>\n      <td>Vietnam</td>\n      <td>[pm1, pm10, pm25, um010, um025, um100]</td>\n    </tr>\n    <tr>\n      <th>128</th>\n      <td>8</td>\n      <td>XK</td>\n      <td>Kosovo</td>\n      <td>[co, no2, o3, pm1, pm10, pm25, so2, um010, um0...</td>\n    </tr>\n    <tr>\n      <th>129</th>\n      <td>1</td>\n      <td>ZA</td>\n      <td>South Africa</td>\n      <td>[pm1, pm10, pm25, so2, um010, um025, um100]</td>\n    </tr>\n  </tbody>\n</table>\n<p>130 rows × 4 columns</p>\n</div>"
     },
     "metadata": {}
    },
    {
     "output_type": "display_data",
     "data": {
      "text/plain": "    cities code   name                                         parameters\n38      59   ES  Spain  [co, no2, o3, pm1, pm10, pm25, so2, um010, um0...",
      "text/html": "<div>\n<style scoped>\n    .dataframe tbody tr th:only-of-type {\n        vertical-align: middle;\n    }\n\n    .dataframe tbody tr th {\n        vertical-align: top;\n    }\n\n    .dataframe thead th {\n        text-align: right;\n    }\n</style>\n<table border=\"1\" class=\"dataframe\">\n  <thead>\n    <tr style=\"text-align: right;\">\n      <th></th>\n      <th>cities</th>\n      <th>code</th>\n      <th>name</th>\n      <th>parameters</th>\n    </tr>\n  </thead>\n  <tbody>\n    <tr>\n      <th>38</th>\n      <td>59</td>\n      <td>ES</td>\n      <td>Spain</td>\n      <td>[co, no2, o3, pm1, pm10, pm25, so2, um010, um0...</td>\n    </tr>\n  </tbody>\n</table>\n</div>"
     },
     "metadata": {}
    },
    {
     "output_type": "stream",
     "name": "stdout",
     "text": [
      "['co', 'no2', 'o3', 'pm1', 'pm10', 'pm25', 'so2', 'um010', 'um025', 'um100']\n"
     ]
    }
   ],
   "source": [
    "def read_countries():\n",
    "    _json = json.load(open(rel_path + 'countries.json'))\n",
    "    data = pd.DataFrame(_json['results'])\n",
    "    data.to_pickle(pkl_countries, compression='infer', protocol=-1)\n",
    "    return data\n",
    "\n",
    "countries = pkl.load(open(pkl_countries, 'rb')) if os.path.exists(pkl_countries) else read_countries()\n",
    "countries.info()\n",
    "\n",
    "# Profile report\n",
    "profile = ProfileReport(countries.loc[:, countries.columns != 'count'], title=\"Profiling Countries\") # cannot insert count, already exists\n",
    "profile.to_widgets()\n",
    "\n",
    "profile.to_file(rep_path + 'countries.html')\n",
    "profile.to_file(rep_path + 'countries.json')\n",
    "\n",
    "# Display\n",
    "countries = countries[['cities','code','name','parameters']]\n",
    "display(countries)\n",
    "\n",
    "spain = countries[countries['name'] == 'Spain']\n",
    "display(spain)\n",
    "\n",
    "print(spain['parameters'].values[0])\n",
    "\n",
    "countries.to_json(clean_path + \"countries.json\", orient='records')"
   ]
  },
  {
   "cell_type": "code",
   "execution_count": 3,
   "metadata": {},
   "outputs": [
    {
     "output_type": "stream",
     "name": "stderr",
     "text": [
      "Summarize dataset:   9%|▊         | 2/23 [00:00<00:01, 18.51it/s, Describe variable:average]<class 'pandas.core.frame.DataFrame'>\n",
      "RangeIndex: 2182 entries, 0 to 2181\n",
      "Data columns (total 10 columns):\n",
      " #   Column             Non-Null Count  Dtype  \n",
      "---  ------             --------------  -----  \n",
      " 0   average            2182 non-null   float64\n",
      " 1   day                2182 non-null   object \n",
      " 2   displayName        2182 non-null   object \n",
      " 3   id                 2182 non-null   int64  \n",
      " 4   measurement_count  2182 non-null   int64  \n",
      " 5   name               2182 non-null   object \n",
      " 6   parameter          2182 non-null   object \n",
      " 7   parameterId        2182 non-null   int64  \n",
      " 8   subtitle           2182 non-null   object \n",
      " 9   unit               2182 non-null   object \n",
      "dtypes: float64(1), int64(3), object(6)\n",
      "memory usage: 170.6+ KB\n",
      "Summarize dataset: 100%|██████████| 23/23 [00:02<00:00, 11.19it/s, Completed]\n",
      "Generate report structure:   0%|          | 0/1 [00:00<?, ?it/s]C:\\Users\\Usuari\\AppData\\Local\\Programs\\Python\\Python39\\lib\\site-packages\\matplotlib\\textpath.py:74: RuntimeWarning: Glyph 8322 missing from current font.\n",
      "  font.set_text(s, 0.0, flags=LOAD_NO_HINTING)\n",
      "C:\\Users\\Usuari\\AppData\\Local\\Programs\\Python\\Python39\\lib\\site-packages\\matplotlib\\textpath.py:74: RuntimeWarning: Glyph 8323 missing from current font.\n",
      "  font.set_text(s, 0.0, flags=LOAD_NO_HINTING)\n",
      "C:\\Users\\Usuari\\AppData\\Local\\Programs\\Python\\Python39\\lib\\site-packages\\matplotlib\\backends\\backend_agg.py:238: RuntimeWarning: Glyph 8322 missing from current font.\n",
      "  font.set_text(s, 0.0, flags=flags)\n",
      "C:\\Users\\Usuari\\AppData\\Local\\Programs\\Python\\Python39\\lib\\site-packages\\matplotlib\\backends\\backend_agg.py:238: RuntimeWarning: Glyph 8323 missing from current font.\n",
      "  font.set_text(s, 0.0, flags=flags)\n",
      "C:\\Users\\Usuari\\AppData\\Local\\Programs\\Python\\Python39\\lib\\site-packages\\matplotlib\\backends\\backend_agg.py:201: RuntimeWarning: Glyph 8322 missing from current font.\n",
      "  font.set_text(s, 0, flags=flags)\n",
      "C:\\Users\\Usuari\\AppData\\Local\\Programs\\Python\\Python39\\lib\\site-packages\\matplotlib\\backends\\backend_agg.py:201: RuntimeWarning: Glyph 8323 missing from current font.\n",
      "  font.set_text(s, 0, flags=flags)\n",
      "Generate report structure: 100%|██████████| 1/1 [00:03<00:00,  3.94s/it]\n"
     ]
    },
    {
     "output_type": "display_data",
     "data": {
      "text/plain": "VBox(children=(Tab(children=(Tab(children=(GridBox(children=(VBox(children=(GridspecLayout(children=(HTML(valu…",
      "application/vnd.jupyter.widget-view+json": {
       "version_major": 2,
       "version_minor": 0,
       "model_id": "c4700a32790647fabc55c39d71fb2830"
      }
     },
     "metadata": {}
    },
    {
     "output_type": "stream",
     "name": "stderr",
     "text": [
      "Render HTML: 100%|██████████| 1/1 [00:00<00:00,  1.54it/s]\n",
      "Export report to file: 100%|██████████| 1/1 [00:00<00:00, 124.98it/s]\n",
      "Render JSON: 100%|██████████| 1/1 [00:00<00:00, 16.39it/s]\n",
      "Export report to file: 100%|██████████| 1/1 [00:00<00:00, 500.22it/s]\n"
     ]
    },
    {
     "output_type": "display_data",
     "data": {
      "text/plain": "       average         day parameter   unit\n0      52.0092  2020-12-31        o3  µg/m³\n1      11.5678  2020-12-31      pm10  µg/m³\n2      14.7604  2020-12-31       no2  µg/m³\n3       3.4066  2020-12-31       so2  µg/m³\n4     322.8080  2020-12-31        co  µg/m³\n...        ...         ...       ...    ...\n2177    3.1374  2020-01-01       so2  µg/m³\n2178   25.6587  2020-01-01      pm10  µg/m³\n2179  412.7953  2020-01-01        co  µg/m³\n2180   22.7752  2020-01-01       no2  µg/m³\n2181   23.7742  2020-01-01      pm25  µg/m³\n\n[2182 rows x 4 columns]",
      "text/html": "<div>\n<style scoped>\n    .dataframe tbody tr th:only-of-type {\n        vertical-align: middle;\n    }\n\n    .dataframe tbody tr th {\n        vertical-align: top;\n    }\n\n    .dataframe thead th {\n        text-align: right;\n    }\n</style>\n<table border=\"1\" class=\"dataframe\">\n  <thead>\n    <tr style=\"text-align: right;\">\n      <th></th>\n      <th>average</th>\n      <th>day</th>\n      <th>parameter</th>\n      <th>unit</th>\n    </tr>\n  </thead>\n  <tbody>\n    <tr>\n      <th>0</th>\n      <td>52.0092</td>\n      <td>2020-12-31</td>\n      <td>o3</td>\n      <td>µg/m³</td>\n    </tr>\n    <tr>\n      <th>1</th>\n      <td>11.5678</td>\n      <td>2020-12-31</td>\n      <td>pm10</td>\n      <td>µg/m³</td>\n    </tr>\n    <tr>\n      <th>2</th>\n      <td>14.7604</td>\n      <td>2020-12-31</td>\n      <td>no2</td>\n      <td>µg/m³</td>\n    </tr>\n    <tr>\n      <th>3</th>\n      <td>3.4066</td>\n      <td>2020-12-31</td>\n      <td>so2</td>\n      <td>µg/m³</td>\n    </tr>\n    <tr>\n      <th>4</th>\n      <td>322.8080</td>\n      <td>2020-12-31</td>\n      <td>co</td>\n      <td>µg/m³</td>\n    </tr>\n    <tr>\n      <th>...</th>\n      <td>...</td>\n      <td>...</td>\n      <td>...</td>\n      <td>...</td>\n    </tr>\n    <tr>\n      <th>2177</th>\n      <td>3.1374</td>\n      <td>2020-01-01</td>\n      <td>so2</td>\n      <td>µg/m³</td>\n    </tr>\n    <tr>\n      <th>2178</th>\n      <td>25.6587</td>\n      <td>2020-01-01</td>\n      <td>pm10</td>\n      <td>µg/m³</td>\n    </tr>\n    <tr>\n      <th>2179</th>\n      <td>412.7953</td>\n      <td>2020-01-01</td>\n      <td>co</td>\n      <td>µg/m³</td>\n    </tr>\n    <tr>\n      <th>2180</th>\n      <td>22.7752</td>\n      <td>2020-01-01</td>\n      <td>no2</td>\n      <td>µg/m³</td>\n    </tr>\n    <tr>\n      <th>2181</th>\n      <td>23.7742</td>\n      <td>2020-01-01</td>\n      <td>pm25</td>\n      <td>µg/m³</td>\n    </tr>\n  </tbody>\n</table>\n<p>2182 rows × 4 columns</p>\n</div>"
     },
     "metadata": {}
    }
   ],
   "source": [
    "def read_measurements():\n",
    "    _json = json.load(open(rel_path + 'measurements_day_0.json'))\n",
    "    data = pd.DataFrame(_json['results'])\n",
    "    data.to_pickle(pkl_measurements, compression='infer', protocol=-1)\n",
    "    return data\n",
    "\n",
    "measurements = pkl.load(open(pkl_measurements, 'rb')) if os.path.exists(pkl_measurements) else read_measurements()\n",
    "measurements.info()\n",
    "\n",
    "# Profile report\n",
    "profile = ProfileReport(measurements, title=\"Profiling Measurements\")\n",
    "profile.to_widgets()\n",
    "#measurements.loc['2020-12-31','o3']\n",
    "\n",
    "profile.to_file(rep_path + 'measurements_day_0.html')\n",
    "profile.to_file(rep_path + 'measurements_day_0.json')\n",
    "\n",
    "# Display\n",
    "measurements = measurements[['average', 'day', 'parameter', 'unit']]\n",
    "pd.to_datetime(measurements['day'], format='%Y-%m-%d')\n",
    "\n",
    "measurements.to_json(clean_path + \"measurements.json\", orient='records')\n",
    "display(measurements)"
   ]
  },
  {
   "cell_type": "code",
   "execution_count": null,
   "metadata": {},
   "outputs": [],
   "source": []
  }
 ],
 "metadata": {
  "kernelspec": {
   "name": "python390jvsc74a57bd03efeaf8f12deeee38dec9f04e0b4bdf2695ae390c5ccbfd78431e919e9e4d08d",
   "display_name": "Python 3.9.0 64-bit"
  },
  "language_info": {
   "codemirror_mode": {
    "name": "ipython",
    "version": 3
   },
   "file_extension": ".py",
   "mimetype": "text/x-python",
   "name": "python",
   "nbconvert_exporter": "python",
   "pygments_lexer": "ipython3",
   "version": "3.9.0"
  }
 },
 "nbformat": 4,
 "nbformat_minor": 4
}