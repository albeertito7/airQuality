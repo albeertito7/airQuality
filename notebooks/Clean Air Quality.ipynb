{
 "cells": [
  {
   "cell_type": "markdown",
   "metadata": {},
   "source": [
    "# Clean Data\n",
    "## Introduction\n",
    "To measure the quality of the air we can use Sulfur Monoxide (SO), Nitrogen Dioxide (NO2), Carbon Dioxide (CO2), Ozone (O3) or Total Suspended Particules. The data obtained by OpenAQ is provided by the different sensors around the world. Nevertheless, we will focus on our country during the last year. We consider using 2020 because it is a year that we have a pandemic situation and we would know what happens during the lockdown etc."
   ]
  },
  {
   "cell_type": "markdown",
   "metadata": {},
   "source": [
    "## Get started\n",
    "\n",
    ">Note: this notebook uses python 3 as kernel\n",
    "\n",
    "This notebook assumes tha data is already downloaded and stored at ``../data/raw``\n",
    "\n",
    "if not, execute:\n",
    "\n",
    "``python ../src/data/get_data.py``"
   ]
  },
  {
   "cell_type": "markdown",
   "metadata": {},
   "source": [
    "## Read Files\n",
    "\n",
    "We will be using, at first instance, the following python modules:\n",
    "- ``os`` python built-in package to deal with directories/files\n",
    "- ``json`` python built-in package to code/encode JSON data\n",
    "- ``pandas`` to read and process the data\n",
    "- ``display`` to visualize the data\n",
    "- ``pickle`` to keep stored the read and processed data as a byte stream to save loading times"
   ]
  },
  {
   "cell_type": "code",
   "execution_count": 1,
   "metadata": {
    "scrolled": false
   },
   "outputs": [],
   "source": [
    "import pandas as pd\n",
    "import os\n",
    "import json\n",
    "from pandas_profiling import ProfileReport\n",
    "from IPython.display import display\n",
    "import pickle as pkl\n",
    "\n",
    "# global vars\n",
    "rel_path=\"../data/raw/\"\n",
    "clean_path=\"../data/clean/\"\n",
    "pkl_path=\"../data/interim/\"\n",
    "rep_path=\"../reports/\"\n",
    "\n",
    "pkl_parameters = pkl_path + \"parameters.pkl\"\n",
    "pkl_countries = pkl_path + \"countries.pkl\"\n",
    "pkl_measurements = pkl_path + \"measurements.pkl\"\n",
    "pkl_locations = pkl_path + \"locations.pkl\"\n",
    "\n",
    "os.makedirs(pkl_path, exist_ok=True)\n",
    "os.makedirs(rep_path, exist_ok=True)"
   ]
  },
  {
   "cell_type": "code",
   "execution_count": 2,
   "metadata": {},
   "outputs": [
    {
     "name": "stdout",
     "output_type": "stream",
     "text": [
      "<class 'pandas.core.frame.DataFrame'>\n",
      "Int64Index: 22 entries, 1 to 19843\n",
      "Data columns (total 6 columns):\n",
      " #   Column         Non-Null Count  Dtype  \n",
      "---  ------         --------------  -----  \n",
      " 0   description    22 non-null     object \n",
      " 1   displayName    22 non-null     object \n",
      " 2   isCore         22 non-null     bool   \n",
      " 3   maxColorValue  11 non-null     float64\n",
      " 4   name           22 non-null     object \n",
      " 5   preferredUnit  22 non-null     object \n",
      "dtypes: bool(1), float64(1), object(4)\n",
      "memory usage: 1.1+ KB\n"
     ]
    },
    {
     "data": {
      "application/vnd.jupyter.widget-view+json": {
       "model_id": "2a5d63fe5898461c9f878ebb18f4898e",
       "version_major": 2,
       "version_minor": 0
      },
      "text/plain": [
       "HBox(children=(HTML(value='Summarize dataset'), FloatProgress(value=0.0, max=20.0), HTML(value='')))"
      ]
     },
     "metadata": {},
     "output_type": "display_data"
    },
    {
     "name": "stdout",
     "output_type": "stream",
     "text": [
      "\n"
     ]
    },
    {
     "data": {
      "application/vnd.jupyter.widget-view+json": {
       "model_id": "2cfd9efcbfbf45059c3d074da10a3d85",
       "version_major": 2,
       "version_minor": 0
      },
      "text/plain": [
       "HBox(children=(HTML(value='Generate report structure'), FloatProgress(value=0.0, max=1.0), HTML(value='')))"
      ]
     },
     "metadata": {},
     "output_type": "display_data"
    },
    {
     "name": "stdout",
     "output_type": "stream",
     "text": [
      "\n"
     ]
    },
    {
     "data": {
      "application/vnd.jupyter.widget-view+json": {
       "model_id": "",
       "version_major": 2,
       "version_minor": 0
      },
      "text/plain": [
       "HBox(children=(HTML(value='Render widgets'), FloatProgress(value=0.0, max=1.0), HTML(value='')))"
      ]
     },
     "metadata": {},
     "output_type": "display_data"
    },
    {
     "data": {
      "application/vnd.jupyter.widget-view+json": {
       "model_id": "3bcc9a4edaac4f9d882c8efd71bf5615",
       "version_major": 2,
       "version_minor": 0
      },
      "text/plain": [
       "VBox(children=(Tab(children=(Tab(children=(GridBox(children=(VBox(children=(GridspecLayout(children=(HTML(valu…"
      ]
     },
     "metadata": {},
     "output_type": "display_data"
    },
    {
     "data": {
      "application/vnd.jupyter.widget-view+json": {
       "model_id": "63b988d563a6485c99833e01cb9f1e5c",
       "version_major": 2,
       "version_minor": 0
      },
      "text/plain": [
       "HBox(children=(HTML(value='Render HTML'), FloatProgress(value=0.0, max=1.0), HTML(value='')))"
      ]
     },
     "metadata": {},
     "output_type": "display_data"
    },
    {
     "name": "stdout",
     "output_type": "stream",
     "text": [
      "\n"
     ]
    },
    {
     "data": {
      "application/vnd.jupyter.widget-view+json": {
       "model_id": "f347d3b1336b45d78d8743ebe92fa311",
       "version_major": 2,
       "version_minor": 0
      },
      "text/plain": [
       "HBox(children=(HTML(value='Export report to file'), FloatProgress(value=0.0, max=1.0), HTML(value='')))"
      ]
     },
     "metadata": {},
     "output_type": "display_data"
    },
    {
     "name": "stdout",
     "output_type": "stream",
     "text": [
      "\n"
     ]
    },
    {
     "data": {
      "application/vnd.jupyter.widget-view+json": {
       "model_id": "59a732527dd24a5ebee67cf2596d9115",
       "version_major": 2,
       "version_minor": 0
      },
      "text/plain": [
       "HBox(children=(HTML(value='Render JSON'), FloatProgress(value=0.0, max=1.0), HTML(value='')))"
      ]
     },
     "metadata": {},
     "output_type": "display_data"
    },
    {
     "name": "stdout",
     "output_type": "stream",
     "text": [
      "\n"
     ]
    },
    {
     "data": {
      "application/vnd.jupyter.widget-view+json": {
       "model_id": "85596074988848d299ac8435af1263b6",
       "version_major": 2,
       "version_minor": 0
      },
      "text/plain": [
       "HBox(children=(HTML(value='Export report to file'), FloatProgress(value=0.0, max=1.0), HTML(value='')))"
      ]
     },
     "metadata": {},
     "output_type": "display_data"
    },
    {
     "name": "stdout",
     "output_type": "stream",
     "text": [
      "\n"
     ]
    },
    {
     "data": {
      "text/html": [
       "<div>\n",
       "<style scoped>\n",
       "    .dataframe tbody tr th:only-of-type {\n",
       "        vertical-align: middle;\n",
       "    }\n",
       "\n",
       "    .dataframe tbody tr th {\n",
       "        vertical-align: top;\n",
       "    }\n",
       "\n",
       "    .dataframe thead th {\n",
       "        text-align: right;\n",
       "    }\n",
       "</style>\n",
       "<table border=\"1\" class=\"dataframe\">\n",
       "  <thead>\n",
       "    <tr style=\"text-align: right;\">\n",
       "      <th></th>\n",
       "      <th>displayName</th>\n",
       "      <th>name</th>\n",
       "      <th>preferredUnit</th>\n",
       "    </tr>\n",
       "    <tr>\n",
       "      <th>id</th>\n",
       "      <th></th>\n",
       "      <th></th>\n",
       "      <th></th>\n",
       "    </tr>\n",
       "  </thead>\n",
       "  <tbody>\n",
       "    <tr>\n",
       "      <th>1</th>\n",
       "      <td>PM10</td>\n",
       "      <td>pm10</td>\n",
       "      <td>µg/m³</td>\n",
       "    </tr>\n",
       "    <tr>\n",
       "      <th>2</th>\n",
       "      <td>PM2.5</td>\n",
       "      <td>pm25</td>\n",
       "      <td>µg/m³</td>\n",
       "    </tr>\n",
       "    <tr>\n",
       "      <th>3</th>\n",
       "      <td>O₃ mass</td>\n",
       "      <td>o3</td>\n",
       "      <td>µg/m³</td>\n",
       "    </tr>\n",
       "    <tr>\n",
       "      <th>4</th>\n",
       "      <td>CO mass</td>\n",
       "      <td>co</td>\n",
       "      <td>µg/m³</td>\n",
       "    </tr>\n",
       "    <tr>\n",
       "      <th>5</th>\n",
       "      <td>NO₂ mass</td>\n",
       "      <td>no2</td>\n",
       "      <td>µg/m³</td>\n",
       "    </tr>\n",
       "    <tr>\n",
       "      <th>6</th>\n",
       "      <td>SO₂ mass</td>\n",
       "      <td>so2</td>\n",
       "      <td>µg/m³</td>\n",
       "    </tr>\n",
       "    <tr>\n",
       "      <th>7</th>\n",
       "      <td>NO₂</td>\n",
       "      <td>no2</td>\n",
       "      <td>ppm</td>\n",
       "    </tr>\n",
       "    <tr>\n",
       "      <th>8</th>\n",
       "      <td>CO</td>\n",
       "      <td>co</td>\n",
       "      <td>ppm</td>\n",
       "    </tr>\n",
       "    <tr>\n",
       "      <th>9</th>\n",
       "      <td>SO₂</td>\n",
       "      <td>so2</td>\n",
       "      <td>ppm</td>\n",
       "    </tr>\n",
       "    <tr>\n",
       "      <th>10</th>\n",
       "      <td>O₃</td>\n",
       "      <td>o3</td>\n",
       "      <td>ppm</td>\n",
       "    </tr>\n",
       "    <tr>\n",
       "      <th>11</th>\n",
       "      <td>BC</td>\n",
       "      <td>bc</td>\n",
       "      <td>µg/m³</td>\n",
       "    </tr>\n",
       "    <tr>\n",
       "      <th>19</th>\n",
       "      <td>PM1</td>\n",
       "      <td>pm1</td>\n",
       "      <td>µg/m³</td>\n",
       "    </tr>\n",
       "    <tr>\n",
       "      <th>21</th>\n",
       "      <td>CO₂</td>\n",
       "      <td>co2</td>\n",
       "      <td>ppm</td>\n",
       "    </tr>\n",
       "    <tr>\n",
       "      <th>27</th>\n",
       "      <td>NOx mass</td>\n",
       "      <td>nox</td>\n",
       "      <td>µg/m³</td>\n",
       "    </tr>\n",
       "    <tr>\n",
       "      <th>28</th>\n",
       "      <td>CH₄</td>\n",
       "      <td>ch4</td>\n",
       "      <td>ppm</td>\n",
       "    </tr>\n",
       "    <tr>\n",
       "      <th>33</th>\n",
       "      <td>UFP count</td>\n",
       "      <td>ufp</td>\n",
       "      <td>particles/cm³</td>\n",
       "    </tr>\n",
       "    <tr>\n",
       "      <th>35</th>\n",
       "      <td>NO</td>\n",
       "      <td>no</td>\n",
       "      <td>ppm</td>\n",
       "    </tr>\n",
       "    <tr>\n",
       "      <th>126</th>\n",
       "      <td>PM1 count</td>\n",
       "      <td>um010</td>\n",
       "      <td>particles/cm³</td>\n",
       "    </tr>\n",
       "    <tr>\n",
       "      <th>130</th>\n",
       "      <td>PM2.5 count</td>\n",
       "      <td>um025</td>\n",
       "      <td>particles/cm³</td>\n",
       "    </tr>\n",
       "    <tr>\n",
       "      <th>135</th>\n",
       "      <td>PM10 count</td>\n",
       "      <td>um100</td>\n",
       "      <td>particles/cm³</td>\n",
       "    </tr>\n",
       "    <tr>\n",
       "      <th>19840</th>\n",
       "      <td>NOx</td>\n",
       "      <td>nox</td>\n",
       "      <td>ppm</td>\n",
       "    </tr>\n",
       "    <tr>\n",
       "      <th>19843</th>\n",
       "      <td>NO mass</td>\n",
       "      <td>no</td>\n",
       "      <td>µg/m³</td>\n",
       "    </tr>\n",
       "  </tbody>\n",
       "</table>\n",
       "</div>"
      ],
      "text/plain": [
       "       displayName   name  preferredUnit\n",
       "id                                      \n",
       "1             PM10   pm10          µg/m³\n",
       "2            PM2.5   pm25          µg/m³\n",
       "3          O₃ mass     o3          µg/m³\n",
       "4          CO mass     co          µg/m³\n",
       "5         NO₂ mass    no2          µg/m³\n",
       "6         SO₂ mass    so2          µg/m³\n",
       "7              NO₂    no2            ppm\n",
       "8               CO     co            ppm\n",
       "9              SO₂    so2            ppm\n",
       "10              O₃     o3            ppm\n",
       "11              BC     bc          µg/m³\n",
       "19             PM1    pm1          µg/m³\n",
       "21             CO₂    co2            ppm\n",
       "27        NOx mass    nox          µg/m³\n",
       "28             CH₄    ch4            ppm\n",
       "33       UFP count    ufp  particles/cm³\n",
       "35              NO     no            ppm\n",
       "126      PM1 count  um010  particles/cm³\n",
       "130    PM2.5 count  um025  particles/cm³\n",
       "135     PM10 count  um100  particles/cm³\n",
       "19840          NOx    nox            ppm\n",
       "19843      NO mass     no          µg/m³"
      ]
     },
     "metadata": {},
     "output_type": "display_data"
    }
   ],
   "source": [
    "def read_parameters():\n",
    "    _json = json.load(open(rel_path + 'parameters.json'))\n",
    "    data = pd.DataFrame(_json[\"results\"]).set_index('id')\n",
    "    data.to_pickle(pkl_parameters, compression='infer', protocol=-1)\n",
    "    return data\n",
    "\n",
    "parameters = pkl.load(open(pkl_parameters, 'rb')) if os.path.exists(pkl_parameters) else read_parameters()\n",
    "parameters.info()\n",
    "\n",
    "# Profile report\n",
    "profile = ProfileReport(parameters, title=\"Profiling Parameters\")\n",
    "profile.to_widgets()\n",
    "\n",
    "profile.to_file(rep_path + 'parameters.html')\n",
    "profile.to_file(rep_path + 'parameters.json')\n",
    "\n",
    "# Display\n",
    "parameters = parameters[['displayName','name','preferredUnit']]\n",
    "display(parameters)\n",
    "\n",
    "os.makedirs(clean_path, exist_ok=True)\n",
    "parameters.to_json(clean_path + \"parameters.json\", orient='records')"
   ]
  },
  {
   "cell_type": "code",
   "execution_count": 3,
   "metadata": {},
   "outputs": [
    {
     "name": "stdout",
     "output_type": "stream",
     "text": [
      "<class 'pandas.core.frame.DataFrame'>\n",
      "RangeIndex: 130 entries, 0 to 129\n",
      "Data columns (total 9 columns):\n",
      " #   Column        Non-Null Count  Dtype \n",
      "---  ------        --------------  ----- \n",
      " 0   cities        130 non-null    int64 \n",
      " 1   code          130 non-null    object\n",
      " 2   count         130 non-null    int64 \n",
      " 3   firstUpdated  130 non-null    object\n",
      " 4   lastUpdated   130 non-null    object\n",
      " 5   locations     130 non-null    int64 \n",
      " 6   name          130 non-null    object\n",
      " 7   parameters    130 non-null    object\n",
      " 8   sources       130 non-null    int64 \n",
      "dtypes: int64(4), object(5)\n",
      "memory usage: 9.3+ KB\n"
     ]
    },
    {
     "name": "stderr",
     "output_type": "stream",
     "text": [
      "/home/pc/anaconda3/envs/BasicDataScience/lib/python3.8/site-packages/pandas/core/frame.py:4296: SettingWithCopyWarning: \n",
      "A value is trying to be set on a copy of a slice from a DataFrame\n",
      "\n",
      "See the caveats in the documentation: https://pandas.pydata.org/pandas-docs/stable/user_guide/indexing.html#returning-a-view-versus-a-copy\n",
      "  return super().rename(\n"
     ]
    },
    {
     "data": {
      "application/vnd.jupyter.widget-view+json": {
       "model_id": "758c2c2400de4b4ea6ebb60723541303",
       "version_major": 2,
       "version_minor": 0
      },
      "text/plain": [
       "HBox(children=(HTML(value='Summarize dataset'), FloatProgress(value=0.0, max=21.0), HTML(value='')))"
      ]
     },
     "metadata": {},
     "output_type": "display_data"
    },
    {
     "name": "stdout",
     "output_type": "stream",
     "text": [
      "\n"
     ]
    },
    {
     "data": {
      "application/vnd.jupyter.widget-view+json": {
       "model_id": "4f84a0ddca854977bb36ceebd8ef36c1",
       "version_major": 2,
       "version_minor": 0
      },
      "text/plain": [
       "HBox(children=(HTML(value='Generate report structure'), FloatProgress(value=0.0, max=1.0), HTML(value='')))"
      ]
     },
     "metadata": {},
     "output_type": "display_data"
    },
    {
     "name": "stdout",
     "output_type": "stream",
     "text": [
      "\n"
     ]
    },
    {
     "data": {
      "application/vnd.jupyter.widget-view+json": {
       "model_id": "",
       "version_major": 2,
       "version_minor": 0
      },
      "text/plain": [
       "HBox(children=(HTML(value='Render widgets'), FloatProgress(value=0.0, max=1.0), HTML(value='')))"
      ]
     },
     "metadata": {},
     "output_type": "display_data"
    },
    {
     "name": "stderr",
     "output_type": "stream",
     "text": [
      "IOPub message rate exceeded.\n",
      "The notebook server will temporarily stop sending output\n",
      "to the client in order to avoid crashing it.\n",
      "To change this limit, set the config variable\n",
      "`--NotebookApp.iopub_msg_rate_limit`.\n",
      "\n",
      "Current values:\n",
      "NotebookApp.iopub_msg_rate_limit=1000.0 (msgs/sec)\n",
      "NotebookApp.rate_limit_window=3.0 (secs)\n",
      "\n"
     ]
    },
    {
     "data": {
      "application/vnd.jupyter.widget-view+json": {
       "model_id": "4437b104b7b94d13b5e9fa63bd4ac8bc",
       "version_major": 2,
       "version_minor": 0
      },
      "text/plain": [
       "VBox(children=(Tab(children=(Tab(children=(GridBox(children=(VBox(children=(GridspecLayout(children=(HTML(valu…"
      ]
     },
     "metadata": {},
     "output_type": "display_data"
    },
    {
     "data": {
      "application/vnd.jupyter.widget-view+json": {
       "model_id": "77b93d61d7754b3786e1ab5428b78ed9",
       "version_major": 2,
       "version_minor": 0
      },
      "text/plain": [
       "HBox(children=(HTML(value='Render HTML'), FloatProgress(value=0.0, max=1.0), HTML(value='')))"
      ]
     },
     "metadata": {},
     "output_type": "display_data"
    },
    {
     "name": "stdout",
     "output_type": "stream",
     "text": [
      "\n"
     ]
    },
    {
     "data": {
      "application/vnd.jupyter.widget-view+json": {
       "model_id": "16f923f1af0b4f2780c52c5506f9284c",
       "version_major": 2,
       "version_minor": 0
      },
      "text/plain": [
       "HBox(children=(HTML(value='Export report to file'), FloatProgress(value=0.0, max=1.0), HTML(value='')))"
      ]
     },
     "metadata": {},
     "output_type": "display_data"
    },
    {
     "name": "stdout",
     "output_type": "stream",
     "text": [
      "\n"
     ]
    },
    {
     "data": {
      "application/vnd.jupyter.widget-view+json": {
       "model_id": "fab2440526774b33947f57f7b2f3fb02",
       "version_major": 2,
       "version_minor": 0
      },
      "text/plain": [
       "HBox(children=(HTML(value='Render JSON'), FloatProgress(value=0.0, max=1.0), HTML(value='')))"
      ]
     },
     "metadata": {},
     "output_type": "display_data"
    },
    {
     "name": "stdout",
     "output_type": "stream",
     "text": [
      "\n"
     ]
    },
    {
     "data": {
      "application/vnd.jupyter.widget-view+json": {
       "model_id": "5127f072aa284df89e740e0f4f80a6fd",
       "version_major": 2,
       "version_minor": 0
      },
      "text/plain": [
       "HBox(children=(HTML(value='Export report to file'), FloatProgress(value=0.0, max=1.0), HTML(value='')))"
      ]
     },
     "metadata": {},
     "output_type": "display_data"
    },
    {
     "name": "stdout",
     "output_type": "stream",
     "text": [
      "\n"
     ]
    },
    {
     "data": {
      "text/html": [
       "<div>\n",
       "<style scoped>\n",
       "    .dataframe tbody tr th:only-of-type {\n",
       "        vertical-align: middle;\n",
       "    }\n",
       "\n",
       "    .dataframe tbody tr th {\n",
       "        vertical-align: top;\n",
       "    }\n",
       "\n",
       "    .dataframe thead th {\n",
       "        text-align: right;\n",
       "    }\n",
       "</style>\n",
       "<table border=\"1\" class=\"dataframe\">\n",
       "  <thead>\n",
       "    <tr style=\"text-align: right;\">\n",
       "      <th></th>\n",
       "      <th>cities</th>\n",
       "      <th>code</th>\n",
       "      <th>name</th>\n",
       "      <th>parameters</th>\n",
       "    </tr>\n",
       "  </thead>\n",
       "  <tbody>\n",
       "    <tr>\n",
       "      <th>0</th>\n",
       "      <td>2</td>\n",
       "      <td>AD</td>\n",
       "      <td>Andorra</td>\n",
       "      <td>[co, no2, o3, pm10, so2]</td>\n",
       "    </tr>\n",
       "    <tr>\n",
       "      <th>1</th>\n",
       "      <td>3</td>\n",
       "      <td>AE</td>\n",
       "      <td>United Arab Emirates</td>\n",
       "      <td>[o3, pm1, pm10, pm25, um010, um025, um100]</td>\n",
       "    </tr>\n",
       "    <tr>\n",
       "      <th>2</th>\n",
       "      <td>2</td>\n",
       "      <td>AF</td>\n",
       "      <td>Afghanistan</td>\n",
       "      <td>[pm25]</td>\n",
       "    </tr>\n",
       "    <tr>\n",
       "      <th>3</th>\n",
       "      <td>0</td>\n",
       "      <td>AM</td>\n",
       "      <td>Armenia</td>\n",
       "      <td>[pm1, pm10, pm25, um010, um025, um100]</td>\n",
       "    </tr>\n",
       "    <tr>\n",
       "      <th>4</th>\n",
       "      <td>0</td>\n",
       "      <td>AO</td>\n",
       "      <td>Angola</td>\n",
       "      <td>[pm1, pm10, pm25, um010, um025, um100]</td>\n",
       "    </tr>\n",
       "    <tr>\n",
       "      <th>...</th>\n",
       "      <td>...</td>\n",
       "      <td>...</td>\n",
       "      <td>...</td>\n",
       "      <td>...</td>\n",
       "    </tr>\n",
       "    <tr>\n",
       "      <th>125</th>\n",
       "      <td>1</td>\n",
       "      <td>UZ</td>\n",
       "      <td>Uzbekistan</td>\n",
       "      <td>[o3, pm25]</td>\n",
       "    </tr>\n",
       "    <tr>\n",
       "      <th>126</th>\n",
       "      <td>1</td>\n",
       "      <td>VM</td>\n",
       "      <td>VM</td>\n",
       "      <td>[pm25]</td>\n",
       "    </tr>\n",
       "    <tr>\n",
       "      <th>127</th>\n",
       "      <td>2</td>\n",
       "      <td>VN</td>\n",
       "      <td>Vietnam</td>\n",
       "      <td>[pm1, pm10, pm25, um010, um025, um100]</td>\n",
       "    </tr>\n",
       "    <tr>\n",
       "      <th>128</th>\n",
       "      <td>8</td>\n",
       "      <td>XK</td>\n",
       "      <td>Kosovo</td>\n",
       "      <td>[co, no2, o3, pm1, pm10, pm25, so2, um010, um0...</td>\n",
       "    </tr>\n",
       "    <tr>\n",
       "      <th>129</th>\n",
       "      <td>1</td>\n",
       "      <td>ZA</td>\n",
       "      <td>South Africa</td>\n",
       "      <td>[pm1, pm10, pm25, so2, um010, um025, um100]</td>\n",
       "    </tr>\n",
       "  </tbody>\n",
       "</table>\n",
       "<p>130 rows × 4 columns</p>\n",
       "</div>"
      ],
      "text/plain": [
       "     cities code                  name  \\\n",
       "0         2   AD               Andorra   \n",
       "1         3   AE  United Arab Emirates   \n",
       "2         2   AF           Afghanistan   \n",
       "3         0   AM               Armenia   \n",
       "4         0   AO                Angola   \n",
       "..      ...  ...                   ...   \n",
       "125       1   UZ            Uzbekistan   \n",
       "126       1   VM                    VM   \n",
       "127       2   VN               Vietnam   \n",
       "128       8   XK                Kosovo   \n",
       "129       1   ZA          South Africa   \n",
       "\n",
       "                                            parameters  \n",
       "0                             [co, no2, o3, pm10, so2]  \n",
       "1           [o3, pm1, pm10, pm25, um010, um025, um100]  \n",
       "2                                               [pm25]  \n",
       "3               [pm1, pm10, pm25, um010, um025, um100]  \n",
       "4               [pm1, pm10, pm25, um010, um025, um100]  \n",
       "..                                                 ...  \n",
       "125                                         [o3, pm25]  \n",
       "126                                             [pm25]  \n",
       "127             [pm1, pm10, pm25, um010, um025, um100]  \n",
       "128  [co, no2, o3, pm1, pm10, pm25, so2, um010, um0...  \n",
       "129        [pm1, pm10, pm25, so2, um010, um025, um100]  \n",
       "\n",
       "[130 rows x 4 columns]"
      ]
     },
     "metadata": {},
     "output_type": "display_data"
    }
   ],
   "source": [
    "def read_countries():\n",
    "    _json = json.load(open(rel_path + 'countries.json'))\n",
    "    data = pd.DataFrame(_json['results'])\n",
    "    data.to_pickle(pkl_countries, compression='infer', protocol=-1)\n",
    "    return data\n",
    "\n",
    "countries = pkl.load(open(pkl_countries, 'rb')) if os.path.exists(pkl_countries) else read_countries()\n",
    "countries.info()\n",
    "\n",
    "# Profile report\n",
    "profile = ProfileReport(countries.loc[:, countries.columns != 'count'], title=\"Profiling Countries\") # cannot insert count, already exists\n",
    "profile.to_widgets()\n",
    "\n",
    "profile.to_file(rep_path + 'countries.html')\n",
    "profile.to_file(rep_path + 'countries.json')\n",
    "\n",
    "# Display\n",
    "countries = countries[['cities','code','name','parameters']]\n",
    "display(countries)\n",
    "\n",
    "countries.to_json(clean_path + \"countries.json\", orient='records')"
   ]
  },
  {
   "cell_type": "code",
   "execution_count": 6,
   "metadata": {},
   "outputs": [
    {
     "name": "stdout",
     "output_type": "stream",
     "text": [
      "<class 'pandas.core.frame.DataFrame'>\n",
      "RangeIndex: 7 entries, 0 to 6\n",
      "Data columns (total 14 columns):\n",
      " #   Column        Non-Null Count  Dtype \n",
      "---  ------        --------------  ----- \n",
      " 0   city          7 non-null      object\n",
      " 1   coordinates   7 non-null      object\n",
      " 2   country       7 non-null      object\n",
      " 3   entity        7 non-null      object\n",
      " 4   firstUpdated  7 non-null      object\n",
      " 5   id            7 non-null      int64 \n",
      " 6   isAnalysis    7 non-null      bool  \n",
      " 7   isMobile      7 non-null      bool  \n",
      " 8   lastUpdated   7 non-null      object\n",
      " 9   measurements  7 non-null      int64 \n",
      " 10  name          7 non-null      object\n",
      " 11  parameters    7 non-null      object\n",
      " 12  sensorType    7 non-null      object\n",
      " 13  sources       7 non-null      object\n",
      "dtypes: bool(2), int64(2), object(10)\n",
      "memory usage: 814.0+ bytes\n"
     ]
    },
    {
     "data": {
      "application/vnd.jupyter.widget-view+json": {
       "model_id": "47180a392f1e4d56bb410e90617c7eca",
       "version_major": 2,
       "version_minor": 0
      },
      "text/plain": [
       "HBox(children=(HTML(value='Summarize dataset'), FloatProgress(value=0.0, max=27.0), HTML(value='')))"
      ]
     },
     "metadata": {},
     "output_type": "display_data"
    },
    {
     "name": "stdout",
     "output_type": "stream",
     "text": [
      "\n"
     ]
    },
    {
     "data": {
      "application/vnd.jupyter.widget-view+json": {
       "model_id": "0cbedc51e7714a77b38f7f2c7ef97a53",
       "version_major": 2,
       "version_minor": 0
      },
      "text/plain": [
       "HBox(children=(HTML(value='Generate report structure'), FloatProgress(value=0.0, max=1.0), HTML(value='')))"
      ]
     },
     "metadata": {},
     "output_type": "display_data"
    },
    {
     "name": "stdout",
     "output_type": "stream",
     "text": [
      "\n"
     ]
    },
    {
     "data": {
      "application/vnd.jupyter.widget-view+json": {
       "model_id": "",
       "version_major": 2,
       "version_minor": 0
      },
      "text/plain": [
       "HBox(children=(HTML(value='Render widgets'), FloatProgress(value=0.0, max=1.0), HTML(value='')))"
      ]
     },
     "metadata": {},
     "output_type": "display_data"
    },
    {
     "data": {
      "application/vnd.jupyter.widget-view+json": {
       "model_id": "d1c8e84cf90b40f9a67b38283e72445d",
       "version_major": 2,
       "version_minor": 0
      },
      "text/plain": [
       "VBox(children=(Tab(children=(Tab(children=(GridBox(children=(VBox(children=(GridspecLayout(children=(HTML(valu…"
      ]
     },
     "metadata": {},
     "output_type": "display_data"
    },
    {
     "data": {
      "application/vnd.jupyter.widget-view+json": {
       "model_id": "4310e5852f094cbaa528ba2364861428",
       "version_major": 2,
       "version_minor": 0
      },
      "text/plain": [
       "HBox(children=(HTML(value='Render HTML'), FloatProgress(value=0.0, max=1.0), HTML(value='')))"
      ]
     },
     "metadata": {},
     "output_type": "display_data"
    },
    {
     "name": "stdout",
     "output_type": "stream",
     "text": [
      "\n"
     ]
    },
    {
     "data": {
      "application/vnd.jupyter.widget-view+json": {
       "model_id": "d54ed1b8fe6441ea9344a58bf2a80fd9",
       "version_major": 2,
       "version_minor": 0
      },
      "text/plain": [
       "HBox(children=(HTML(value='Export report to file'), FloatProgress(value=0.0, max=1.0), HTML(value='')))"
      ]
     },
     "metadata": {},
     "output_type": "display_data"
    },
    {
     "name": "stdout",
     "output_type": "stream",
     "text": [
      "\n"
     ]
    },
    {
     "data": {
      "application/vnd.jupyter.widget-view+json": {
       "model_id": "7895bca01ace4b128cfe564f2be5a3ec",
       "version_major": 2,
       "version_minor": 0
      },
      "text/plain": [
       "HBox(children=(HTML(value='Render JSON'), FloatProgress(value=0.0, max=1.0), HTML(value='')))"
      ]
     },
     "metadata": {},
     "output_type": "display_data"
    },
    {
     "name": "stdout",
     "output_type": "stream",
     "text": [
      "\n"
     ]
    },
    {
     "data": {
      "application/vnd.jupyter.widget-view+json": {
       "model_id": "116e97fbc2754615ae462834286fb6e2",
       "version_major": 2,
       "version_minor": 0
      },
      "text/plain": [
       "HBox(children=(HTML(value='Export report to file'), FloatProgress(value=0.0, max=1.0), HTML(value='')))"
      ]
     },
     "metadata": {},
     "output_type": "display_data"
    },
    {
     "name": "stdout",
     "output_type": "stream",
     "text": [
      "\n"
     ]
    },
    {
     "data": {
      "text/html": [
       "<div>\n",
       "<style scoped>\n",
       "    .dataframe tbody tr th:only-of-type {\n",
       "        vertical-align: middle;\n",
       "    }\n",
       "\n",
       "    .dataframe tbody tr th {\n",
       "        vertical-align: top;\n",
       "    }\n",
       "\n",
       "    .dataframe thead th {\n",
       "        text-align: right;\n",
       "    }\n",
       "</style>\n",
       "<table border=\"1\" class=\"dataframe\">\n",
       "  <thead>\n",
       "    <tr style=\"text-align: right;\">\n",
       "      <th></th>\n",
       "      <th>city</th>\n",
       "      <th>country</th>\n",
       "      <th>measurements</th>\n",
       "      <th>name</th>\n",
       "      <th>parameters</th>\n",
       "    </tr>\n",
       "  </thead>\n",
       "  <tbody>\n",
       "    <tr>\n",
       "      <th>0</th>\n",
       "      <td>Lleida</td>\n",
       "      <td>ES</td>\n",
       "      <td>87477</td>\n",
       "      <td>ES1348A</td>\n",
       "      <td>[{'average': 6.12817871775504, 'count': 43689,...</td>\n",
       "    </tr>\n",
       "    <tr>\n",
       "      <th>1</th>\n",
       "      <td>Lleida</td>\n",
       "      <td>ES</td>\n",
       "      <td>158200</td>\n",
       "      <td>ES1225A</td>\n",
       "      <td>[{'average': 21.836622590619, 'count': 30402, ...</td>\n",
       "    </tr>\n",
       "    <tr>\n",
       "      <th>2</th>\n",
       "      <td>Lleida</td>\n",
       "      <td>ES</td>\n",
       "      <td>44096</td>\n",
       "      <td>ES1588A</td>\n",
       "      <td>[{'average': 31.143459724238, 'count': 44096, ...</td>\n",
       "    </tr>\n",
       "    <tr>\n",
       "      <th>3</th>\n",
       "      <td>Lleida</td>\n",
       "      <td>ES</td>\n",
       "      <td>166789</td>\n",
       "      <td>ES1982A</td>\n",
       "      <td>[{'average': -0.809283896764813, 'count': 4126...</td>\n",
       "    </tr>\n",
       "    <tr>\n",
       "      <th>4</th>\n",
       "      <td>Lleida</td>\n",
       "      <td>ES</td>\n",
       "      <td>87526</td>\n",
       "      <td>ES2034A</td>\n",
       "      <td>[{'average': 33.5927029547574, 'count': 43963,...</td>\n",
       "    </tr>\n",
       "    <tr>\n",
       "      <th>5</th>\n",
       "      <td>Lleida</td>\n",
       "      <td>ES</td>\n",
       "      <td>141226</td>\n",
       "      <td>ES0014R</td>\n",
       "      <td>[{'average': 52.9704737236434, 'count': 46715,...</td>\n",
       "    </tr>\n",
       "    <tr>\n",
       "      <th>6</th>\n",
       "      <td>Lleida</td>\n",
       "      <td>ES</td>\n",
       "      <td>43718</td>\n",
       "      <td>ES1248A</td>\n",
       "      <td>[{'average': 31.86282538085, 'count': 43718, '...</td>\n",
       "    </tr>\n",
       "  </tbody>\n",
       "</table>\n",
       "</div>"
      ],
      "text/plain": [
       "     city country  measurements     name  \\\n",
       "0  Lleida      ES         87477  ES1348A   \n",
       "1  Lleida      ES        158200  ES1225A   \n",
       "2  Lleida      ES         44096  ES1588A   \n",
       "3  Lleida      ES        166789  ES1982A   \n",
       "4  Lleida      ES         87526  ES2034A   \n",
       "5  Lleida      ES        141226  ES0014R   \n",
       "6  Lleida      ES         43718  ES1248A   \n",
       "\n",
       "                                          parameters  \n",
       "0  [{'average': 6.12817871775504, 'count': 43689,...  \n",
       "1  [{'average': 21.836622590619, 'count': 30402, ...  \n",
       "2  [{'average': 31.143459724238, 'count': 44096, ...  \n",
       "3  [{'average': -0.809283896764813, 'count': 4126...  \n",
       "4  [{'average': 33.5927029547574, 'count': 43963,...  \n",
       "5  [{'average': 52.9704737236434, 'count': 46715,...  \n",
       "6  [{'average': 31.86282538085, 'count': 43718, '...  "
      ]
     },
     "metadata": {},
     "output_type": "display_data"
    },
    {
     "name": "stdout",
     "output_type": "stream",
     "text": [
      "['ES1348A' 'ES1225A' 'ES1588A' 'ES1982A' 'ES2034A' 'ES0014R' 'ES1248A']\n"
     ]
    }
   ],
   "source": [
    "def read_locations():\n",
    "    _json = json.load(open(rel_path + 'locations_ES_Lleida.json'))\n",
    "    data = pd.DataFrame(_json['results'])\n",
    "    data.to_pickle(pkl_locations, compression='infer', protocol=-1)\n",
    "    return data\n",
    "\n",
    "locations = pkl.load(open(pkl_locations, 'rb')) if os.path.exists(pkl_locations) else read_locations()\n",
    "locations.info()\n",
    "\n",
    "# Profile report\n",
    "profile = ProfileReport(locations, title=\"Profiling Measurements\")\n",
    "profile.to_widgets()\n",
    "\n",
    "profile.to_file(rep_path + 'locations.html')\n",
    "profile.to_file(rep_path + 'locations.json')\n",
    "\n",
    "locations = locations[['city','country','measurements','name','parameters']]\n",
    "locations.to_json(clean_path + \"locations.json\", orient='records')\n",
    "display(locations)\n",
    "print(locations.name.values)"
   ]
  },
  {
   "cell_type": "code",
   "execution_count": 5,
   "metadata": {},
   "outputs": [
    {
     "name": "stdout",
     "output_type": "stream",
     "text": [
      "<class 'pandas.core.frame.DataFrame'>\n",
      "RangeIndex: 2182 entries, 0 to 2181\n",
      "Data columns (total 10 columns):\n",
      " #   Column             Non-Null Count  Dtype  \n",
      "---  ------             --------------  -----  \n",
      " 0   average            2182 non-null   float64\n",
      " 1   day                2182 non-null   object \n",
      " 2   displayName        2182 non-null   object \n",
      " 3   id                 2182 non-null   int64  \n",
      " 4   measurement_count  2182 non-null   int64  \n",
      " 5   name               2182 non-null   object \n",
      " 6   parameter          2182 non-null   object \n",
      " 7   parameterId        2182 non-null   int64  \n",
      " 8   subtitle           2182 non-null   object \n",
      " 9   unit               2182 non-null   object \n",
      "dtypes: float64(1), int64(3), object(6)\n",
      "memory usage: 170.6+ KB\n"
     ]
    },
    {
     "data": {
      "application/vnd.jupyter.widget-view+json": {
       "model_id": "1d2abebe6b704b0fbc7440d1fcde19fb",
       "version_major": 2,
       "version_minor": 0
      },
      "text/plain": [
       "HBox(children=(HTML(value='Summarize dataset'), FloatProgress(value=0.0, max=23.0), HTML(value='')))"
      ]
     },
     "metadata": {},
     "output_type": "display_data"
    },
    {
     "name": "stdout",
     "output_type": "stream",
     "text": [
      "\n"
     ]
    },
    {
     "data": {
      "application/vnd.jupyter.widget-view+json": {
       "model_id": "4771486e0b6b468fb7947bf4c9de0f8d",
       "version_major": 2,
       "version_minor": 0
      },
      "text/plain": [
       "HBox(children=(HTML(value='Generate report structure'), FloatProgress(value=0.0, max=1.0), HTML(value='')))"
      ]
     },
     "metadata": {},
     "output_type": "display_data"
    },
    {
     "name": "stdout",
     "output_type": "stream",
     "text": [
      "\n"
     ]
    },
    {
     "data": {
      "application/vnd.jupyter.widget-view+json": {
       "model_id": "",
       "version_major": 2,
       "version_minor": 0
      },
      "text/plain": [
       "HBox(children=(HTML(value='Render widgets'), FloatProgress(value=0.0, max=1.0), HTML(value='')))"
      ]
     },
     "metadata": {},
     "output_type": "display_data"
    },
    {
     "data": {
      "application/vnd.jupyter.widget-view+json": {
       "model_id": "1d647d9e26a844afbbb42bd6c1ac84ac",
       "version_major": 2,
       "version_minor": 0
      },
      "text/plain": [
       "VBox(children=(Tab(children=(Tab(children=(GridBox(children=(VBox(children=(GridspecLayout(children=(HTML(valu…"
      ]
     },
     "metadata": {},
     "output_type": "display_data"
    },
    {
     "data": {
      "application/vnd.jupyter.widget-view+json": {
       "model_id": "3c2e87ec1e16422595446688f7c8d580",
       "version_major": 2,
       "version_minor": 0
      },
      "text/plain": [
       "HBox(children=(HTML(value='Render HTML'), FloatProgress(value=0.0, max=1.0), HTML(value='')))"
      ]
     },
     "metadata": {},
     "output_type": "display_data"
    },
    {
     "name": "stdout",
     "output_type": "stream",
     "text": [
      "\n"
     ]
    },
    {
     "data": {
      "application/vnd.jupyter.widget-view+json": {
       "model_id": "12906b87b6e84086a70d8d04d2ec173d",
       "version_major": 2,
       "version_minor": 0
      },
      "text/plain": [
       "HBox(children=(HTML(value='Export report to file'), FloatProgress(value=0.0, max=1.0), HTML(value='')))"
      ]
     },
     "metadata": {},
     "output_type": "display_data"
    },
    {
     "name": "stdout",
     "output_type": "stream",
     "text": [
      "\n"
     ]
    },
    {
     "data": {
      "application/vnd.jupyter.widget-view+json": {
       "model_id": "886112e0e1d049d3bfd45d12e466d6c1",
       "version_major": 2,
       "version_minor": 0
      },
      "text/plain": [
       "HBox(children=(HTML(value='Render JSON'), FloatProgress(value=0.0, max=1.0), HTML(value='')))"
      ]
     },
     "metadata": {},
     "output_type": "display_data"
    },
    {
     "name": "stdout",
     "output_type": "stream",
     "text": [
      "\n"
     ]
    },
    {
     "data": {
      "application/vnd.jupyter.widget-view+json": {
       "model_id": "4e3c599c270d425fb3d65b8f01ff533e",
       "version_major": 2,
       "version_minor": 0
      },
      "text/plain": [
       "HBox(children=(HTML(value='Export report to file'), FloatProgress(value=0.0, max=1.0), HTML(value='')))"
      ]
     },
     "metadata": {},
     "output_type": "display_data"
    },
    {
     "name": "stdout",
     "output_type": "stream",
     "text": [
      "\n"
     ]
    },
    {
     "data": {
      "text/html": [
       "<div>\n",
       "<style scoped>\n",
       "    .dataframe tbody tr th:only-of-type {\n",
       "        vertical-align: middle;\n",
       "    }\n",
       "\n",
       "    .dataframe tbody tr th {\n",
       "        vertical-align: top;\n",
       "    }\n",
       "\n",
       "    .dataframe thead th {\n",
       "        text-align: right;\n",
       "    }\n",
       "</style>\n",
       "<table border=\"1\" class=\"dataframe\">\n",
       "  <thead>\n",
       "    <tr style=\"text-align: right;\">\n",
       "      <th></th>\n",
       "      <th>average</th>\n",
       "      <th>day</th>\n",
       "      <th>parameter</th>\n",
       "      <th>unit</th>\n",
       "    </tr>\n",
       "  </thead>\n",
       "  <tbody>\n",
       "    <tr>\n",
       "      <th>0</th>\n",
       "      <td>52.0092</td>\n",
       "      <td>2020-12-31</td>\n",
       "      <td>o3</td>\n",
       "      <td>µg/m³</td>\n",
       "    </tr>\n",
       "    <tr>\n",
       "      <th>1</th>\n",
       "      <td>11.5678</td>\n",
       "      <td>2020-12-31</td>\n",
       "      <td>pm10</td>\n",
       "      <td>µg/m³</td>\n",
       "    </tr>\n",
       "    <tr>\n",
       "      <th>2</th>\n",
       "      <td>14.7604</td>\n",
       "      <td>2020-12-31</td>\n",
       "      <td>no2</td>\n",
       "      <td>µg/m³</td>\n",
       "    </tr>\n",
       "    <tr>\n",
       "      <th>3</th>\n",
       "      <td>3.4066</td>\n",
       "      <td>2020-12-31</td>\n",
       "      <td>so2</td>\n",
       "      <td>µg/m³</td>\n",
       "    </tr>\n",
       "    <tr>\n",
       "      <th>4</th>\n",
       "      <td>322.8080</td>\n",
       "      <td>2020-12-31</td>\n",
       "      <td>co</td>\n",
       "      <td>µg/m³</td>\n",
       "    </tr>\n",
       "    <tr>\n",
       "      <th>...</th>\n",
       "      <td>...</td>\n",
       "      <td>...</td>\n",
       "      <td>...</td>\n",
       "      <td>...</td>\n",
       "    </tr>\n",
       "    <tr>\n",
       "      <th>2177</th>\n",
       "      <td>3.1374</td>\n",
       "      <td>2020-01-01</td>\n",
       "      <td>so2</td>\n",
       "      <td>µg/m³</td>\n",
       "    </tr>\n",
       "    <tr>\n",
       "      <th>2178</th>\n",
       "      <td>25.6587</td>\n",
       "      <td>2020-01-01</td>\n",
       "      <td>pm10</td>\n",
       "      <td>µg/m³</td>\n",
       "    </tr>\n",
       "    <tr>\n",
       "      <th>2179</th>\n",
       "      <td>412.7953</td>\n",
       "      <td>2020-01-01</td>\n",
       "      <td>co</td>\n",
       "      <td>µg/m³</td>\n",
       "    </tr>\n",
       "    <tr>\n",
       "      <th>2180</th>\n",
       "      <td>22.7752</td>\n",
       "      <td>2020-01-01</td>\n",
       "      <td>no2</td>\n",
       "      <td>µg/m³</td>\n",
       "    </tr>\n",
       "    <tr>\n",
       "      <th>2181</th>\n",
       "      <td>23.7742</td>\n",
       "      <td>2020-01-01</td>\n",
       "      <td>pm25</td>\n",
       "      <td>µg/m³</td>\n",
       "    </tr>\n",
       "  </tbody>\n",
       "</table>\n",
       "<p>2182 rows × 4 columns</p>\n",
       "</div>"
      ],
      "text/plain": [
       "       average         day parameter   unit\n",
       "0      52.0092  2020-12-31        o3  µg/m³\n",
       "1      11.5678  2020-12-31      pm10  µg/m³\n",
       "2      14.7604  2020-12-31       no2  µg/m³\n",
       "3       3.4066  2020-12-31       so2  µg/m³\n",
       "4     322.8080  2020-12-31        co  µg/m³\n",
       "...        ...         ...       ...    ...\n",
       "2177    3.1374  2020-01-01       so2  µg/m³\n",
       "2178   25.6587  2020-01-01      pm10  µg/m³\n",
       "2179  412.7953  2020-01-01        co  µg/m³\n",
       "2180   22.7752  2020-01-01       no2  µg/m³\n",
       "2181   23.7742  2020-01-01      pm25  µg/m³\n",
       "\n",
       "[2182 rows x 4 columns]"
      ]
     },
     "metadata": {},
     "output_type": "display_data"
    }
   ],
   "source": [
    "def read_measurements():\n",
    "    _json = json.load(open(rel_path + 'measurements_day_0.json'))\n",
    "    data = pd.DataFrame(_json['results'])\n",
    "    data.to_pickle(pkl_measurements, compression='infer', protocol=-1)\n",
    "    return data\n",
    "\n",
    "measurements = pkl.load(open(pkl_measurements, 'rb')) if os.path.exists(pkl_measurements) else read_measurements()\n",
    "measurements.info()\n",
    "\n",
    "# Profile report\n",
    "profile = ProfileReport(measurements, title=\"Profiling Measurements\")\n",
    "profile.to_widgets()\n",
    "\n",
    "\n",
    "profile.to_file(rep_path + 'measurements_day_0.html')\n",
    "profile.to_file(rep_path + 'measurements_day_0.json')\n",
    "\n",
    "# Display\n",
    "measurements = measurements[['average', 'day', 'parameter', 'unit']]\n",
    "pd.to_datetime(measurements['day'], format='%Y-%m-%d')\n",
    "\n",
    "measurements.to_json(clean_path + \"measurements.json\", orient='records')\n",
    "display(measurements)"
   ]
  },
  {
   "cell_type": "code",
   "execution_count": null,
   "metadata": {},
   "outputs": [],
   "source": []
  }
 ],
 "metadata": {
  "kernelspec": {
   "display_name": "Python 3",
   "language": "python",
   "name": "python3"
  },
  "language_info": {
   "codemirror_mode": {
    "name": "ipython",
    "version": 3
   },
   "file_extension": ".py",
   "mimetype": "text/x-python",
   "name": "python",
   "nbconvert_exporter": "python",
   "pygments_lexer": "ipython3",
   "version": "3.8.5"
  }
 },
 "nbformat": 4,
 "nbformat_minor": 4
}
